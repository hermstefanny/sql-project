{
 "cells": [
  {
   "cell_type": "code",
   "execution_count": 2,
   "id": "cb159325",
   "metadata": {},
   "outputs": [],
   "source": [
    "import pandas as pd\n",
    "from sqlalchemy import create_engine"
   ]
  },
  {
   "cell_type": "code",
   "execution_count": 3,
   "id": "17cc030d",
   "metadata": {},
   "outputs": [],
   "source": [
    "engine = create_engine(\"sqlite:///data/kbo_database.db\")"
   ]
  },
  {
   "cell_type": "code",
   "execution_count": 4,
   "id": "b035956d",
   "metadata": {},
   "outputs": [
    {
     "data": {
      "application/vnd.microsoft.datawrangler.viewer.v0+json": {
       "columns": [
        {
         "name": "index",
         "rawType": "int64",
         "type": "integer"
        },
        {
         "name": "EntityNumber",
         "rawType": "object",
         "type": "string"
        },
        {
         "name": "TypeOfAddress",
         "rawType": "object",
         "type": "string"
        },
        {
         "name": "CountryNL",
         "rawType": "object",
         "type": "unknown"
        },
        {
         "name": "CountryFR",
         "rawType": "object",
         "type": "unknown"
        },
        {
         "name": "Zipcode",
         "rawType": "object",
         "type": "string"
        },
        {
         "name": "MunicipalityNL",
         "rawType": "object",
         "type": "string"
        },
        {
         "name": "MunicipalityFR",
         "rawType": "object",
         "type": "string"
        },
        {
         "name": "StreetNL",
         "rawType": "object",
         "type": "string"
        },
        {
         "name": "StreetFR",
         "rawType": "object",
         "type": "string"
        },
        {
         "name": "HouseNumber",
         "rawType": "object",
         "type": "string"
        },
        {
         "name": "Box",
         "rawType": "object",
         "type": "unknown"
        },
        {
         "name": "ExtraAddressInfo",
         "rawType": "object",
         "type": "unknown"
        },
        {
         "name": "DateStrikingOff",
         "rawType": "object",
         "type": "unknown"
        }
       ],
       "ref": "95dafaea-0b28-46c6-9883-1df5347e7caf",
       "rows": [
        [
         "0",
         "0200.065.765",
         "REGO",
         null,
         null,
         "9070",
         "Destelbergen",
         "Destelbergen",
         "Panhuisstraat",
         "Panhuisstraat",
         "1",
         null,
         null,
         null
        ],
        [
         "1",
         "0200.068.636",
         "REGO",
         null,
         null,
         "9000",
         "Gent",
         "Gent",
         "Stropstraat",
         "Stropstraat",
         "1",
         null,
         null,
         null
        ],
        [
         "2",
         "0200.171.970",
         "REGO",
         null,
         null,
         "9000",
         "Gent",
         "Gent",
         "Brabantdam",
         "Brabantdam",
         "101",
         null,
         null,
         null
        ],
        [
         "3",
         "0200.245.711",
         "REGO",
         null,
         null,
         "9500",
         "Geraardsbergen",
         "Geraardsbergen",
         "Hoge Buizemont",
         "Hoge Buizemont",
         "247",
         null,
         null,
         null
        ],
        [
         "4",
         "0200.305.493",
         "REGO",
         null,
         null,
         "9520",
         "Sint-Lievens-Houtem",
         "Sint-Lievens-Houtem",
         "Gentsesteenweg",
         "Gentsesteenweg",
         "1B",
         null,
         null,
         null
        ]
       ],
       "shape": {
        "columns": 13,
        "rows": 5
       }
      },
      "text/html": [
       "<div>\n",
       "<style scoped>\n",
       "    .dataframe tbody tr th:only-of-type {\n",
       "        vertical-align: middle;\n",
       "    }\n",
       "\n",
       "    .dataframe tbody tr th {\n",
       "        vertical-align: top;\n",
       "    }\n",
       "\n",
       "    .dataframe thead th {\n",
       "        text-align: right;\n",
       "    }\n",
       "</style>\n",
       "<table border=\"1\" class=\"dataframe\">\n",
       "  <thead>\n",
       "    <tr style=\"text-align: right;\">\n",
       "      <th></th>\n",
       "      <th>EntityNumber</th>\n",
       "      <th>TypeOfAddress</th>\n",
       "      <th>CountryNL</th>\n",
       "      <th>CountryFR</th>\n",
       "      <th>Zipcode</th>\n",
       "      <th>MunicipalityNL</th>\n",
       "      <th>MunicipalityFR</th>\n",
       "      <th>StreetNL</th>\n",
       "      <th>StreetFR</th>\n",
       "      <th>HouseNumber</th>\n",
       "      <th>Box</th>\n",
       "      <th>ExtraAddressInfo</th>\n",
       "      <th>DateStrikingOff</th>\n",
       "    </tr>\n",
       "  </thead>\n",
       "  <tbody>\n",
       "    <tr>\n",
       "      <th>0</th>\n",
       "      <td>0200.065.765</td>\n",
       "      <td>REGO</td>\n",
       "      <td>None</td>\n",
       "      <td>None</td>\n",
       "      <td>9070</td>\n",
       "      <td>Destelbergen</td>\n",
       "      <td>Destelbergen</td>\n",
       "      <td>Panhuisstraat</td>\n",
       "      <td>Panhuisstraat</td>\n",
       "      <td>1</td>\n",
       "      <td>None</td>\n",
       "      <td>None</td>\n",
       "      <td>None</td>\n",
       "    </tr>\n",
       "    <tr>\n",
       "      <th>1</th>\n",
       "      <td>0200.068.636</td>\n",
       "      <td>REGO</td>\n",
       "      <td>None</td>\n",
       "      <td>None</td>\n",
       "      <td>9000</td>\n",
       "      <td>Gent</td>\n",
       "      <td>Gent</td>\n",
       "      <td>Stropstraat</td>\n",
       "      <td>Stropstraat</td>\n",
       "      <td>1</td>\n",
       "      <td>None</td>\n",
       "      <td>None</td>\n",
       "      <td>None</td>\n",
       "    </tr>\n",
       "    <tr>\n",
       "      <th>2</th>\n",
       "      <td>0200.171.970</td>\n",
       "      <td>REGO</td>\n",
       "      <td>None</td>\n",
       "      <td>None</td>\n",
       "      <td>9000</td>\n",
       "      <td>Gent</td>\n",
       "      <td>Gent</td>\n",
       "      <td>Brabantdam</td>\n",
       "      <td>Brabantdam</td>\n",
       "      <td>101</td>\n",
       "      <td>None</td>\n",
       "      <td>None</td>\n",
       "      <td>None</td>\n",
       "    </tr>\n",
       "    <tr>\n",
       "      <th>3</th>\n",
       "      <td>0200.245.711</td>\n",
       "      <td>REGO</td>\n",
       "      <td>None</td>\n",
       "      <td>None</td>\n",
       "      <td>9500</td>\n",
       "      <td>Geraardsbergen</td>\n",
       "      <td>Geraardsbergen</td>\n",
       "      <td>Hoge Buizemont</td>\n",
       "      <td>Hoge Buizemont</td>\n",
       "      <td>247</td>\n",
       "      <td>None</td>\n",
       "      <td>None</td>\n",
       "      <td>None</td>\n",
       "    </tr>\n",
       "    <tr>\n",
       "      <th>4</th>\n",
       "      <td>0200.305.493</td>\n",
       "      <td>REGO</td>\n",
       "      <td>None</td>\n",
       "      <td>None</td>\n",
       "      <td>9520</td>\n",
       "      <td>Sint-Lievens-Houtem</td>\n",
       "      <td>Sint-Lievens-Houtem</td>\n",
       "      <td>Gentsesteenweg</td>\n",
       "      <td>Gentsesteenweg</td>\n",
       "      <td>1B</td>\n",
       "      <td>None</td>\n",
       "      <td>None</td>\n",
       "      <td>None</td>\n",
       "    </tr>\n",
       "  </tbody>\n",
       "</table>\n",
       "</div>"
      ],
      "text/plain": [
       "   EntityNumber TypeOfAddress CountryNL CountryFR Zipcode  \\\n",
       "0  0200.065.765          REGO      None      None    9070   \n",
       "1  0200.068.636          REGO      None      None    9000   \n",
       "2  0200.171.970          REGO      None      None    9000   \n",
       "3  0200.245.711          REGO      None      None    9500   \n",
       "4  0200.305.493          REGO      None      None    9520   \n",
       "\n",
       "        MunicipalityNL       MunicipalityFR        StreetNL        StreetFR  \\\n",
       "0         Destelbergen         Destelbergen   Panhuisstraat   Panhuisstraat   \n",
       "1                 Gent                 Gent     Stropstraat     Stropstraat   \n",
       "2                 Gent                 Gent      Brabantdam      Brabantdam   \n",
       "3       Geraardsbergen       Geraardsbergen  Hoge Buizemont  Hoge Buizemont   \n",
       "4  Sint-Lievens-Houtem  Sint-Lievens-Houtem  Gentsesteenweg  Gentsesteenweg   \n",
       "\n",
       "  HouseNumber   Box ExtraAddressInfo DateStrikingOff  \n",
       "0           1  None             None            None  \n",
       "1           1  None             None            None  \n",
       "2         101  None             None            None  \n",
       "3         247  None             None            None  \n",
       "4          1B  None             None            None  "
      ]
     },
     "execution_count": 4,
     "metadata": {},
     "output_type": "execute_result"
    }
   ],
   "source": [
    "df_address = pd.read_sql(\"SELECT * FROM address LIMIT 5\", engine)\n",
    "df_address.head()"
   ]
  },
  {
   "cell_type": "code",
   "execution_count": 5,
   "id": "6b03b550",
   "metadata": {},
   "outputs": [
    {
     "name": "stdout",
     "output_type": "stream",
     "text": [
      "c:\\Users\\herms\\Desktop\\BeCode-Bauman\\TheHill_Projects\\sql-project\n"
     ]
    }
   ],
   "source": [
    "import os\n",
    "print(os.getcwd())"
   ]
  },
  {
   "cell_type": "code",
   "execution_count": 6,
   "id": "4da6a579",
   "metadata": {},
   "outputs": [],
   "source": [
    "%load_ext sql\n",
    "%sql sqlite:///C:/Users/herms/Desktop/BeCode-Bauman/TheHill_Projects/sql-project/data/kbo_database.db\n",
    "\n"
   ]
  },
  {
   "cell_type": "code",
   "execution_count": 7,
   "id": "543086e3",
   "metadata": {},
   "outputs": [
    {
     "name": "stdout",
     "output_type": "stream",
     "text": [
      " * sqlite:///C:/Users/herms/Desktop/BeCode-Bauman/TheHill_Projects/sql-project/data/kbo_database.db\n",
      "Done.\n"
     ]
    },
    {
     "ename": "KeyError",
     "evalue": "'DEFAULT'",
     "output_type": "error",
     "traceback": [
      "\u001b[1;31m---------------------------------------------------------------------------\u001b[0m",
      "\u001b[1;31mKeyError\u001b[0m                                  Traceback (most recent call last)",
      "Cell \u001b[1;32mIn[7], line 1\u001b[0m\n\u001b[1;32m----> 1\u001b[0m \u001b[43mget_ipython\u001b[49m\u001b[43m(\u001b[49m\u001b[43m)\u001b[49m\u001b[38;5;241;43m.\u001b[39;49m\u001b[43mrun_cell_magic\u001b[49m\u001b[43m(\u001b[49m\u001b[38;5;124;43m'\u001b[39;49m\u001b[38;5;124;43msql\u001b[39;49m\u001b[38;5;124;43m'\u001b[39;49m\u001b[43m,\u001b[49m\u001b[43m \u001b[49m\u001b[38;5;124;43m'\u001b[39;49m\u001b[38;5;124;43m'\u001b[39;49m\u001b[43m,\u001b[49m\u001b[43m \u001b[49m\u001b[38;5;124;43m'\u001b[39;49m\u001b[38;5;130;43;01m\\n\u001b[39;49;00m\u001b[38;5;124;43mSELECT * FROM address \u001b[39;49m\u001b[38;5;130;43;01m\\n\u001b[39;49;00m\u001b[38;5;124;43mLIMIT 5;\u001b[39;49m\u001b[38;5;130;43;01m\\n\u001b[39;49;00m\u001b[38;5;124;43m'\u001b[39;49m\u001b[43m)\u001b[49m\n",
      "File \u001b[1;32mc:\\Users\\herms\\Desktop\\BeCode-Bauman\\TheHill_Projects\\sql-project\\venv\\lib\\site-packages\\IPython\\core\\interactiveshell.py:2543\u001b[0m, in \u001b[0;36mInteractiveShell.run_cell_magic\u001b[1;34m(self, magic_name, line, cell)\u001b[0m\n\u001b[0;32m   2541\u001b[0m \u001b[38;5;28;01mwith\u001b[39;00m \u001b[38;5;28mself\u001b[39m\u001b[38;5;241m.\u001b[39mbuiltin_trap:\n\u001b[0;32m   2542\u001b[0m     args \u001b[38;5;241m=\u001b[39m (magic_arg_s, cell)\n\u001b[1;32m-> 2543\u001b[0m     result \u001b[38;5;241m=\u001b[39m fn(\u001b[38;5;241m*\u001b[39margs, \u001b[38;5;241m*\u001b[39m\u001b[38;5;241m*\u001b[39mkwargs)\n\u001b[0;32m   2545\u001b[0m \u001b[38;5;66;03m# The code below prevents the output from being displayed\u001b[39;00m\n\u001b[0;32m   2546\u001b[0m \u001b[38;5;66;03m# when using magics with decorator @output_can_be_silenced\u001b[39;00m\n\u001b[0;32m   2547\u001b[0m \u001b[38;5;66;03m# when the last Python token in the expression is a ';'.\u001b[39;00m\n\u001b[0;32m   2548\u001b[0m \u001b[38;5;28;01mif\u001b[39;00m \u001b[38;5;28mgetattr\u001b[39m(fn, magic\u001b[38;5;241m.\u001b[39mMAGIC_OUTPUT_CAN_BE_SILENCED, \u001b[38;5;28;01mFalse\u001b[39;00m):\n",
      "File \u001b[1;32mc:\\Users\\herms\\Desktop\\BeCode-Bauman\\TheHill_Projects\\sql-project\\venv\\lib\\site-packages\\sql\\magic.py:219\u001b[0m, in \u001b[0;36mSqlMagic.execute\u001b[1;34m(self, line, cell, local_ns)\u001b[0m\n\u001b[0;32m    216\u001b[0m     \u001b[38;5;28;01mreturn\u001b[39;00m\n\u001b[0;32m    218\u001b[0m \u001b[38;5;28;01mtry\u001b[39;00m:\n\u001b[1;32m--> 219\u001b[0m     result \u001b[38;5;241m=\u001b[39m \u001b[43msql\u001b[49m\u001b[38;5;241;43m.\u001b[39;49m\u001b[43mrun\u001b[49m\u001b[38;5;241;43m.\u001b[39;49m\u001b[43mrun\u001b[49m\u001b[43m(\u001b[49m\u001b[43mconn\u001b[49m\u001b[43m,\u001b[49m\u001b[43m \u001b[49m\u001b[43mparsed\u001b[49m\u001b[43m[\u001b[49m\u001b[38;5;124;43m\"\u001b[39;49m\u001b[38;5;124;43msql\u001b[39;49m\u001b[38;5;124;43m\"\u001b[39;49m\u001b[43m]\u001b[49m\u001b[43m,\u001b[49m\u001b[43m \u001b[49m\u001b[38;5;28;43mself\u001b[39;49m\u001b[43m,\u001b[49m\u001b[43m \u001b[49m\u001b[43muser_ns\u001b[49m\u001b[43m)\u001b[49m\n\u001b[0;32m    221\u001b[0m     \u001b[38;5;28;01mif\u001b[39;00m (\n\u001b[0;32m    222\u001b[0m         result \u001b[38;5;129;01mis\u001b[39;00m \u001b[38;5;129;01mnot\u001b[39;00m \u001b[38;5;28;01mNone\u001b[39;00m\n\u001b[0;32m    223\u001b[0m         \u001b[38;5;129;01mand\u001b[39;00m \u001b[38;5;129;01mnot\u001b[39;00m \u001b[38;5;28misinstance\u001b[39m(result, \u001b[38;5;28mstr\u001b[39m)\n\u001b[1;32m   (...)\u001b[0m\n\u001b[0;32m    226\u001b[0m         \u001b[38;5;66;03m# Instead of returning values, set variables directly in the\u001b[39;00m\n\u001b[0;32m    227\u001b[0m         \u001b[38;5;66;03m# user's namespace. Variable names given by column names\u001b[39;00m\n\u001b[0;32m    229\u001b[0m         \u001b[38;5;28;01mif\u001b[39;00m \u001b[38;5;28mself\u001b[39m\u001b[38;5;241m.\u001b[39mautopandas:\n",
      "File \u001b[1;32mc:\\Users\\herms\\Desktop\\BeCode-Bauman\\TheHill_Projects\\sql-project\\venv\\lib\\site-packages\\sql\\run.py:374\u001b[0m, in \u001b[0;36mrun\u001b[1;34m(conn, sql, config, user_namespace)\u001b[0m\n\u001b[0;32m    372\u001b[0m     \u001b[38;5;28;01mif\u001b[39;00m result \u001b[38;5;129;01mand\u001b[39;00m config\u001b[38;5;241m.\u001b[39mfeedback:\n\u001b[0;32m    373\u001b[0m         \u001b[38;5;28mprint\u001b[39m(interpret_rowcount(result\u001b[38;5;241m.\u001b[39mrowcount))\n\u001b[1;32m--> 374\u001b[0m resultset \u001b[38;5;241m=\u001b[39m \u001b[43mResultSet\u001b[49m\u001b[43m(\u001b[49m\u001b[43mresult\u001b[49m\u001b[43m,\u001b[49m\u001b[43m \u001b[49m\u001b[43mconfig\u001b[49m\u001b[43m)\u001b[49m\n\u001b[0;32m    375\u001b[0m \u001b[38;5;28;01mif\u001b[39;00m config\u001b[38;5;241m.\u001b[39mautopandas:\n\u001b[0;32m    376\u001b[0m     \u001b[38;5;28;01mreturn\u001b[39;00m resultset\u001b[38;5;241m.\u001b[39mDataFrame()\n",
      "File \u001b[1;32mc:\\Users\\herms\\Desktop\\BeCode-Bauman\\TheHill_Projects\\sql-project\\venv\\lib\\site-packages\\sql\\run.py:116\u001b[0m, in \u001b[0;36mResultSet.__init__\u001b[1;34m(self, sqlaproxy, config)\u001b[0m\n\u001b[0;32m    114\u001b[0m         \u001b[38;5;28mlist\u001b[39m\u001b[38;5;241m.\u001b[39m\u001b[38;5;21m__init__\u001b[39m(\u001b[38;5;28mself\u001b[39m, sqlaproxy\u001b[38;5;241m.\u001b[39mfetchall())\n\u001b[0;32m    115\u001b[0m     \u001b[38;5;28mself\u001b[39m\u001b[38;5;241m.\u001b[39mfield_names \u001b[38;5;241m=\u001b[39m unduplicate_field_names(\u001b[38;5;28mself\u001b[39m\u001b[38;5;241m.\u001b[39mkeys)\n\u001b[1;32m--> 116\u001b[0m     \u001b[38;5;28mself\u001b[39m\u001b[38;5;241m.\u001b[39mpretty \u001b[38;5;241m=\u001b[39m PrettyTable(\u001b[38;5;28mself\u001b[39m\u001b[38;5;241m.\u001b[39mfield_names, style\u001b[38;5;241m=\u001b[39m\u001b[43mprettytable\u001b[49m\u001b[38;5;241;43m.\u001b[39;49m\u001b[38;5;18;43m__dict__\u001b[39;49m\u001b[43m[\u001b[49m\u001b[43mconfig\u001b[49m\u001b[38;5;241;43m.\u001b[39;49m\u001b[43mstyle\u001b[49m\u001b[38;5;241;43m.\u001b[39;49m\u001b[43mupper\u001b[49m\u001b[43m(\u001b[49m\u001b[43m)\u001b[49m\u001b[43m]\u001b[49m)\n\u001b[0;32m    117\u001b[0m \u001b[38;5;28;01melse\u001b[39;00m:\n\u001b[0;32m    118\u001b[0m     \u001b[38;5;28mlist\u001b[39m\u001b[38;5;241m.\u001b[39m\u001b[38;5;21m__init__\u001b[39m(\u001b[38;5;28mself\u001b[39m, [])\n",
      "\u001b[1;31mKeyError\u001b[0m: 'DEFAULT'"
     ]
    }
   ],
   "source": [
    "%%sql\n",
    "\n",
    "SELECT * FROM address \n",
    "LIMIT 5;"
   ]
  },
  {
   "cell_type": "code",
   "execution_count": null,
   "id": "6f92323d",
   "metadata": {},
   "outputs": [],
   "source": []
  }
 ],
 "metadata": {
  "kernelspec": {
   "display_name": "venv (3.10.4)",
   "language": "python",
   "name": "python3"
  },
  "language_info": {
   "codemirror_mode": {
    "name": "ipython",
    "version": 3
   },
   "file_extension": ".py",
   "mimetype": "text/x-python",
   "name": "python",
   "nbconvert_exporter": "python",
   "pygments_lexer": "ipython3",
   "version": "3.10.4"
  }
 },
 "nbformat": 4,
 "nbformat_minor": 5
}
