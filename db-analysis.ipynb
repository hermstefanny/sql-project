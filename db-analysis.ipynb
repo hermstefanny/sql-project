{
 "cells": [
  {
   "cell_type": "code",
   "execution_count": null,
   "id": "af9b11b7",
   "metadata": {},
   "outputs": [],
   "source": [
    "import pandas as pd"
   ]
  },
  {
   "cell_type": "markdown",
   "id": "1c186504",
   "metadata": {},
   "source": [
    "## Overview of Belgian Companies by Sector\n"
   ]
  },
  {
   "cell_type": "markdown",
   "id": "e42a013a",
   "metadata": {},
   "source": [
    "### General Overview"
   ]
  },
  {
   "cell_type": "markdown",
   "id": "efd62f7b",
   "metadata": {},
   "source": []
  }
 ],
 "metadata": {
  "kernelspec": {
   "display_name": "venv (3.10.4)",
   "language": "python",
   "name": "python3"
  },
  "language_info": {
   "codemirror_mode": {
    "name": "ipython",
    "version": 3
   },
   "file_extension": ".py",
   "mimetype": "text/x-python",
   "name": "python",
   "nbconvert_exporter": "python",
   "pygments_lexer": "ipython3",
   "version": "3.10.4"
  }
 },
 "nbformat": 4,
 "nbformat_minor": 5
}
