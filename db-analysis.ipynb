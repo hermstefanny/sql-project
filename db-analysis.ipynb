{
 "cells": [
  {
   "cell_type": "code",
   "execution_count": 7,
   "id": "af9b11b7",
   "metadata": {},
   "outputs": [],
   "source": [
    "import pandas as pd\n",
    "import matplotlib.pyplot as plt\n",
    "import seaborn as sns"
   ]
  },
  {
   "cell_type": "markdown",
   "id": "1c186504",
   "metadata": {},
   "source": [
    "## Overview of Belgian Companies by Sector\n"
   ]
  },
  {
   "cell_type": "markdown",
   "id": "e42a013a",
   "metadata": {},
   "source": [
    "### General Overview"
   ]
  },
  {
   "cell_type": "code",
   "execution_count": 2,
   "id": "42e8a9cf",
   "metadata": {},
   "outputs": [],
   "source": [
    "sector_nac_2025 = pd.read_csv('data\\Entity-nace-by-sector-with-description.csv')"
   ]
  },
  {
   "cell_type": "code",
   "execution_count": 3,
   "id": "c3fdf863",
   "metadata": {},
   "outputs": [
    {
     "data": {
      "application/vnd.microsoft.datawrangler.viewer.v0+json": {
       "columns": [
        {
         "name": "index",
         "rawType": "int64",
         "type": "integer"
        },
        {
         "name": "NaceCodeGroup",
         "rawType": "int64",
         "type": "integer"
        },
        {
         "name": "EntityCount",
         "rawType": "int64",
         "type": "integer"
        },
        {
         "name": "Description",
         "rawType": "object",
         "type": "unknown"
        }
       ],
       "ref": "a50a012c-417f-4369-a373-adec4be0eac5",
       "rows": [
        [
         "0",
         "47",
         "239065",
         "Commerce de détail"
        ],
        [
         "1",
         "43",
         "186269",
         "Travaux de construction spécialisés"
        ],
        [
         "2",
         "82",
         "150687",
         "Activités de service de bureau, de soutien administratif et d’autre soutien aux entreprises"
        ],
        [
         "3",
         "70",
         "144354",
         "Activités des sièges sociaux et conseil de gestion"
        ],
        [
         "4",
         "46",
         "125921",
         "Commerce de gros"
        ],
        [
         "5",
         "96",
         "99389",
         "Activités de services aux personnes"
        ],
        [
         "6",
         "85",
         "89632",
         "Enseignement"
        ],
        [
         "7",
         "68",
         "89615",
         "Activités immobilières"
        ],
        [
         "8",
         "86",
         "84928",
         "Activités pour la santé humaine"
        ],
        [
         "9",
         "56",
         "78735",
         "Activités de service de restauration"
        ],
        [
         "10",
         "81",
         "75594",
         "Activités de services pour les bâtiments et l’aménagement paysager"
        ],
        [
         "11",
         "73",
         "75102",
         "Activités de publicité, d’études de marché et de relations publiques"
        ],
        [
         "12",
         "74",
         "73714",
         "Autres activités spécialisées, scientifiques et techniques"
        ],
        [
         "13",
         "62",
         "72848",
         "Programmation, conseil et autres activités informatiques"
        ],
        [
         "14",
         "71",
         "59274",
         "Activités d’architecture et d’ingénierie; activités de contrôle et analyses techniques"
        ],
        [
         "15",
         "90",
         "55066",
         "Activités de création artistique et de spectacle"
        ],
        [
         "16",
         "95",
         "48484",
         "Réparation et entretien d’ordinateurs, de biens personnels et domestiques et d’automobiles et motocycles"
        ],
        [
         "17",
         "93",
         "48096",
         "Activités sportives et activités récréatives et de loisirs"
        ],
        [
         "18",
         "64",
         "46321",
         "Activités de services financiers, hors assurance et fonds de pension"
        ],
        [
         "19",
         "69",
         "45246",
         "Activités juridiques et comptables"
        ],
        [
         "20",
         "41",
         "44763",
         "Construction de bâtiments résidentiels et non résidentiels"
        ],
        [
         "21",
         "63",
         "38234",
         "Infrastructure informatique, traitement de données et autres activités de service d'information"
        ],
        [
         "22",
         "49",
         "31429",
         "Transports terrestres et transports par conduites"
        ],
        [
         "23",
         "77",
         "31130",
         "Activités de location et location-bail"
        ],
        [
         "24",
         "15",
         "25514",
         "Fabrication de cuir, d’articles en cuir et de produits similaires dans d’autres matières"
        ],
        [
         "25",
         "16",
         "23992",
         "Travail du bois et fabrication d’articles en bois et en liège, à l’exception des meubles; fabrication d’articles en vannerie et sparterie"
        ],
        [
         "26",
         "14",
         "21720",
         "Industrie de l’habillement"
        ],
        [
         "27",
         "33",
         "20739",
         "Réparation, entretien et installation de machines et d’équipements"
        ],
        [
         "28",
         "25",
         "19704",
         "Fabrication de produits métalliques, à l’exception des machines et des équipements"
        ],
        [
         "29",
         "42",
         "16545",
         "Génie civil"
        ],
        [
         "30",
         "59",
         "16326",
         "Production de films cinématographiques, de vidéos et de programmes de télévision; enregistrement sonore et édition musicale"
        ],
        [
         "31",
         "11",
         "16266",
         "Fabrication de boissons"
        ],
        [
         "32",
         "66",
         "14999",
         "Activités auxiliaires d’activités de services financiers et d’assurance"
        ],
        [
         "33",
         "52",
         "14487",
         "Entreposage et services auxiliaires des transports"
        ],
        [
         "34",
         "10",
         "14152",
         "Industries alimentaires"
        ],
        [
         "35",
         "18",
         "12953",
         "Imprimerie et reproduction d’enregistrements"
        ],
        [
         "36",
         "55",
         "12938",
         "Hébergement"
        ],
        [
         "37",
         "32",
         "11069",
         "Autres industries manufacturières"
        ],
        [
         "38",
         "94",
         "10843",
         "Activités des organisations associatives"
        ],
        [
         "39",
         "53",
         "10826",
         "Activités de poste et de courrier"
        ],
        [
         "40",
         "58",
         "10808",
         "Activités d’édition"
        ],
        [
         "41",
         "31",
         "9408",
         "Fabrication de meubles"
        ],
        [
         "42",
         "88",
         "8084",
         "Activités d’action sociale sans hébergement"
        ],
        [
         "43",
         "13",
         "7384",
         "Fabrication de textiles"
        ],
        [
         "44",
         "78",
         "7265",
         "Activités liées à l’emploi"
        ],
        [
         "45",
         "79",
         "6793",
         "Activités d’agence de voyage, de voyagiste, de service de réservation et de services connexes"
        ],
        [
         "46",
         "22",
         "6531",
         "Fabrication de produits en caoutchouc et en plastique"
        ],
        [
         "47",
         "75",
         "6077",
         "Activités vétérinaires"
        ],
        [
         "48",
         "23",
         "5309",
         "Fabrication d’autres produits minéraux non métalliques"
        ],
        [
         "49",
         "72",
         "4887",
         "Recherche et développement scientifique"
        ]
       ],
       "shape": {
        "columns": 3,
        "rows": 80
       }
      },
      "text/html": [
       "<div>\n",
       "<style scoped>\n",
       "    .dataframe tbody tr th:only-of-type {\n",
       "        vertical-align: middle;\n",
       "    }\n",
       "\n",
       "    .dataframe tbody tr th {\n",
       "        vertical-align: top;\n",
       "    }\n",
       "\n",
       "    .dataframe thead th {\n",
       "        text-align: right;\n",
       "    }\n",
       "</style>\n",
       "<table border=\"1\" class=\"dataframe\">\n",
       "  <thead>\n",
       "    <tr style=\"text-align: right;\">\n",
       "      <th></th>\n",
       "      <th>NaceCodeGroup</th>\n",
       "      <th>EntityCount</th>\n",
       "      <th>Description</th>\n",
       "    </tr>\n",
       "  </thead>\n",
       "  <tbody>\n",
       "    <tr>\n",
       "      <th>0</th>\n",
       "      <td>47</td>\n",
       "      <td>239065</td>\n",
       "      <td>Commerce de détail</td>\n",
       "    </tr>\n",
       "    <tr>\n",
       "      <th>1</th>\n",
       "      <td>43</td>\n",
       "      <td>186269</td>\n",
       "      <td>Travaux de construction spécialisés</td>\n",
       "    </tr>\n",
       "    <tr>\n",
       "      <th>2</th>\n",
       "      <td>82</td>\n",
       "      <td>150687</td>\n",
       "      <td>Activités de service de bureau, de soutien adm...</td>\n",
       "    </tr>\n",
       "    <tr>\n",
       "      <th>3</th>\n",
       "      <td>70</td>\n",
       "      <td>144354</td>\n",
       "      <td>Activités des sièges sociaux et conseil de ges...</td>\n",
       "    </tr>\n",
       "    <tr>\n",
       "      <th>4</th>\n",
       "      <td>46</td>\n",
       "      <td>125921</td>\n",
       "      <td>Commerce de gros</td>\n",
       "    </tr>\n",
       "    <tr>\n",
       "      <th>...</th>\n",
       "      <td>...</td>\n",
       "      <td>...</td>\n",
       "      <td>...</td>\n",
       "    </tr>\n",
       "    <tr>\n",
       "      <th>75</th>\n",
       "      <td>99</td>\n",
       "      <td>430</td>\n",
       "      <td>Activités des organisations et organismes extr...</td>\n",
       "    </tr>\n",
       "    <tr>\n",
       "      <th>76</th>\n",
       "      <td>36</td>\n",
       "      <td>313</td>\n",
       "      <td>Captage, traitement et distribution d’eau</td>\n",
       "    </tr>\n",
       "    <tr>\n",
       "      <th>77</th>\n",
       "      <td>89</td>\n",
       "      <td>62</td>\n",
       "      <td>NaN</td>\n",
       "    </tr>\n",
       "    <tr>\n",
       "      <th>78</th>\n",
       "      <td>19</td>\n",
       "      <td>51</td>\n",
       "      <td>Cokéfaction et raffinage</td>\n",
       "    </tr>\n",
       "    <tr>\n",
       "      <th>79</th>\n",
       "      <td>98</td>\n",
       "      <td>14</td>\n",
       "      <td>Activités indifférenciées des ménages en tant ...</td>\n",
       "    </tr>\n",
       "  </tbody>\n",
       "</table>\n",
       "<p>80 rows × 3 columns</p>\n",
       "</div>"
      ],
      "text/plain": [
       "    NaceCodeGroup  EntityCount  \\\n",
       "0              47       239065   \n",
       "1              43       186269   \n",
       "2              82       150687   \n",
       "3              70       144354   \n",
       "4              46       125921   \n",
       "..            ...          ...   \n",
       "75             99          430   \n",
       "76             36          313   \n",
       "77             89           62   \n",
       "78             19           51   \n",
       "79             98           14   \n",
       "\n",
       "                                          Description  \n",
       "0                                  Commerce de détail  \n",
       "1                 Travaux de construction spécialisés  \n",
       "2   Activités de service de bureau, de soutien adm...  \n",
       "3   Activités des sièges sociaux et conseil de ges...  \n",
       "4                                    Commerce de gros  \n",
       "..                                                ...  \n",
       "75  Activités des organisations et organismes extr...  \n",
       "76          Captage, traitement et distribution d’eau  \n",
       "77                                                NaN  \n",
       "78                           Cokéfaction et raffinage  \n",
       "79  Activités indifférenciées des ménages en tant ...  \n",
       "\n",
       "[80 rows x 3 columns]"
      ]
     },
     "execution_count": 3,
     "metadata": {},
     "output_type": "execute_result"
    }
   ],
   "source": [
    "sector_nac_2025"
   ]
  },
  {
   "cell_type": "code",
   "execution_count": 4,
   "id": "2512c2c0",
   "metadata": {},
   "outputs": [
    {
     "data": {
      "text/plain": [
       "<Axes: xlabel='NaceCodeGroup', ylabel='EntityCount'>"
      ]
     },
     "execution_count": 4,
     "metadata": {},
     "output_type": "execute_result"
    },
    {
     "data": {
      "image/png": "[encoded data removed]",
      "text/plain": [
       "<Figure size 640x480 with 1 Axes>"
      ]
     },
     "metadata": {},
     "output_type": "display_data"
    }
   ],
   "source": [
    "sector_nac_2025_sorted = sector_nac_2025.sort_values('EntityCount', ascending=False)\n",
    "\n",
    "sns.barplot(data=sector_nac_2025_sorted, x='NaceCodeGroup', y='EntityCount',  order=sector_nac_2025_sorted['NaceCodeGroup'])  \n"
   ]
  },
  {
   "cell_type": "code",
   "execution_count": 5,
   "id": "2114f456",
   "metadata": {},
   "outputs": [],
   "source": [
    "top_ten_sectors = sector_nac_2025.head(10)"
   ]
  },
  {
   "cell_type": "code",
   "execution_count": 24,
   "id": "bf85bf30",
   "metadata": {},
   "outputs": [],
   "source": [
    "top_five_sectors = sector_nac_2025.head(5)"
   ]
  },
  {
   "cell_type": "code",
   "execution_count": null,
   "id": "4dc34160",
   "metadata": {},
   "outputs": [
    {
     "data": {
      "image/png": "[encoded data removed]",
      "text/plain": [
       "<Figure size 800x800 with 1 Axes>"
      ]
     },
     "metadata": {},
     "output_type": "display_data"
    }
   ],
   "source": [
    "plt.figure(figsize=(8, 8))\n",
    "plt.pie(\n",
    "    top_ten_sectors['EntityCount'],\n",
    "    labels=top_ten_sectors['Description'],\n",
    "    autopct='%1.1f%%',\n",
    "    startangle=140,\n",
    "    counterclock=False\n",
    ")\n",
    "plt.title('Enterprise Distribution by Sector -Top 10 economic activities')\n",
    "plt.axis('equal')  # Equal aspect ratio ensures pie is drawn as a circle\n",
    "plt.show()"
   ]
  },
  {
   "cell_type": "markdown",
   "id": "2ce15ff6",
   "metadata": {},
   "source": [
    "### Juridique Type of Belgian Companies by Sector"
   ]
  },
  {
   "cell_type": "code",
   "execution_count": 80,
   "id": "2e9719eb",
   "metadata": {},
   "outputs": [
    {
     "data": {
      "application/vnd.microsoft.datawrangler.viewer.v0+json": {
       "columns": [
        {
         "name": "index",
         "rawType": "int64",
         "type": "integer"
        },
        {
         "name": "Code",
         "rawType": "int64",
         "type": "integer"
        },
        {
         "name": "Description",
         "rawType": "object",
         "type": "string"
        }
       ],
       "ref": "b1f93d45-2afe-44f2-ae9a-e954ab26768f",
       "rows": [
        [
         "0",
         "1",
         "Société coopérative européenne"
        ],
        [
         "1",
         "2",
         "Organisme de financement de pensions"
        ],
        [
         "2",
         "3",
         "Unité TVA"
        ],
        [
         "3",
         "6",
         "Société coopérative à responsabilité illimitée"
        ],
        [
         "4",
         "7",
         "Société coopérative à responsabilité illimitée et solidaire, société coopérative de participation"
        ],
        [
         "5",
         "8",
         "Société coopérative à responsabilité limitée"
        ],
        [
         "6",
         "9",
         "Société coopérative à responsabilité limitée, coopérative de participation"
        ],
        [
         "7",
         "10",
         "Société privée à responsabilité limitée unipersonnelle"
        ],
        [
         "8",
         "11",
         "Société en nom collectif"
        ],
        [
         "9",
         "12",
         "Société en commandite simple"
        ],
        [
         "10",
         "13",
         "Société en commandite par actions"
        ],
        [
         "11",
         "14",
         "Société anonyme"
        ],
        [
         "12",
         "15",
         "Société privée à responsabilité limitée"
        ],
        [
         "13",
         "16",
         "Société coopérative (ancien statut)"
        ],
        [
         "14",
         "17",
         "Association sans but lucratif"
        ],
        [
         "15",
         "18",
         "Etablissement d'utilité publique"
        ],
        [
         "16",
         "19",
         "Mutualité / Société Mutualiste / Union nationale de mutualités"
        ],
        [
         "17",
         "20",
         "Union professionnelle"
        ],
        [
         "18",
         "21",
         "Association d'assurances mutuelles / Caisse commune d'assurances de droit privé"
        ],
        [
         "19",
         "22",
         "Organisation scientifique internationale de droit belge"
        ],
        [
         "20",
         "23",
         "Association étrangère privée avec établissement en Belgique"
        ],
        [
         "21",
         "25",
         "Société agricole"
        ],
        [
         "22",
         "26",
         "Fondation privée"
        ],
        [
         "23",
         "27",
         "Société européenne (Societas Europaea)"
        ],
        [
         "24",
         "28",
         "Institution sans but lucratif"
        ],
        [
         "25",
         "29",
         "Fondation d'utilité publique"
        ],
        [
         "26",
         "30",
         "Entité étrangère"
        ],
        [
         "27",
         "40",
         "Société congolaise (loi de 1927)"
        ],
        [
         "28",
         "51",
         "Autre forme de droit privé avec personnalité juridique"
        ],
        [
         "29",
         "60",
         "Groupement d'intérêt économique"
        ],
        [
         "30",
         "65",
         "Groupement européen d'intérêt économique"
        ],
        [
         "31",
         "70",
         "Association des copropriétaires"
        ],
        [
         "32",
         "106",
         "Société coopérative à responsabilité illimitée de droit public"
        ],
        [
         "33",
         "107",
         "Coopérative à responsabilité illimitée, coopérative de participation, de droit public"
        ],
        [
         "34",
         "108",
         "Société coopérative à responsabilité limitée de droit public"
        ],
        [
         "35",
         "109",
         "Société coopérative à responsabilité limitée, coopérative de participation, de droit public"
        ],
        [
         "36",
         "110",
         "État, Province, Région, Communauté"
        ],
        [
         "37",
         "114",
         "Société anonyme de droit public"
        ],
        [
         "38",
         "116",
         "Société coopérative de droit public (ancien statut)"
        ],
        [
         "39",
         "117",
         "Association sans but lucratif de droit public"
        ],
        [
         "40",
         "121",
         "Association d'assurances mutuelles de droit public"
        ],
        [
         "41",
         "123",
         "Corporation professionnelle / Ordre"
        ],
        [
         "42",
         "124",
         "Etablissement public"
        ],
        [
         "43",
         "125",
         "Association internationale sans but lucratif"
        ],
        [
         "44",
         "126",
         "Centre public d'action sociale"
        ],
        [
         "45",
         "127",
         "Monts-de-Piété"
        ],
        [
         "46",
         "128",
         "Temporel des cultes / Établissement cultuel public"
        ],
        [
         "47",
         "129",
         "Polder / wateringue"
        ],
        [
         "48",
         "151",
         "Autre forme légale"
        ],
        [
         "49",
         "155",
         "Zone de police locale"
        ]
       ],
       "shape": {
        "columns": 2,
        "rows": 146
       }
      },
      "text/html": [
       "<div>\n",
       "<style scoped>\n",
       "    .dataframe tbody tr th:only-of-type {\n",
       "        vertical-align: middle;\n",
       "    }\n",
       "\n",
       "    .dataframe tbody tr th {\n",
       "        vertical-align: top;\n",
       "    }\n",
       "\n",
       "    .dataframe thead th {\n",
       "        text-align: right;\n",
       "    }\n",
       "</style>\n",
       "<table border=\"1\" class=\"dataframe\">\n",
       "  <thead>\n",
       "    <tr style=\"text-align: right;\">\n",
       "      <th></th>\n",
       "      <th>Code</th>\n",
       "      <th>Description</th>\n",
       "    </tr>\n",
       "  </thead>\n",
       "  <tbody>\n",
       "    <tr>\n",
       "      <th>0</th>\n",
       "      <td>1</td>\n",
       "      <td>Société coopérative européenne</td>\n",
       "    </tr>\n",
       "    <tr>\n",
       "      <th>1</th>\n",
       "      <td>2</td>\n",
       "      <td>Organisme de financement de pensions</td>\n",
       "    </tr>\n",
       "    <tr>\n",
       "      <th>2</th>\n",
       "      <td>3</td>\n",
       "      <td>Unité TVA</td>\n",
       "    </tr>\n",
       "    <tr>\n",
       "      <th>3</th>\n",
       "      <td>6</td>\n",
       "      <td>Société coopérative à responsabilité illimitée</td>\n",
       "    </tr>\n",
       "    <tr>\n",
       "      <th>4</th>\n",
       "      <td>7</td>\n",
       "      <td>Société coopérative à responsabilité illimitée...</td>\n",
       "    </tr>\n",
       "    <tr>\n",
       "      <th>...</th>\n",
       "      <td>...</td>\n",
       "      <td>...</td>\n",
       "    </tr>\n",
       "    <tr>\n",
       "      <th>141</th>\n",
       "      <td>722</td>\n",
       "      <td>Association momentanée</td>\n",
       "    </tr>\n",
       "    <tr>\n",
       "      <th>142</th>\n",
       "      <td>723</td>\n",
       "      <td>Association de frais</td>\n",
       "    </tr>\n",
       "    <tr>\n",
       "      <th>143</th>\n",
       "      <td>724</td>\n",
       "      <td>Syndicat</td>\n",
       "    </tr>\n",
       "    <tr>\n",
       "      <th>144</th>\n",
       "      <td>790</td>\n",
       "      <td>Divers sans personnalité juridique</td>\n",
       "    </tr>\n",
       "    <tr>\n",
       "      <th>145</th>\n",
       "      <td>999</td>\n",
       "      <td>Forme légale inconnue (ONSS)</td>\n",
       "    </tr>\n",
       "  </tbody>\n",
       "</table>\n",
       "<p>146 rows × 2 columns</p>\n",
       "</div>"
      ],
      "text/plain": [
       "     Code                                        Description\n",
       "0       1                     Société coopérative européenne\n",
       "1       2               Organisme de financement de pensions\n",
       "2       3                                          Unité TVA\n",
       "3       6     Société coopérative à responsabilité illimitée\n",
       "4       7  Société coopérative à responsabilité illimitée...\n",
       "..    ...                                                ...\n",
       "141   722                             Association momentanée\n",
       "142   723                               Association de frais\n",
       "143   724                                           Syndicat\n",
       "144   790                 Divers sans personnalité juridique\n",
       "145   999                       Forme légale inconnue (ONSS)\n",
       "\n",
       "[146 rows x 2 columns]"
      ]
     },
     "execution_count": 80,
     "metadata": {},
     "output_type": "execute_result"
    }
   ],
   "source": [
    "jur_codes = pd.read_csv('data/juridical_form_codes.csv')\n",
    "jur_codes"
   ]
  },
  {
   "cell_type": "code",
   "execution_count": 95,
   "id": "d342d1d9",
   "metadata": {},
   "outputs": [
    {
     "data": {
      "application/vnd.microsoft.datawrangler.viewer.v0+json": {
       "columns": [
        {
         "name": "index",
         "rawType": "int64",
         "type": "integer"
        },
        {
         "name": "NaceCodeGroup",
         "rawType": "int64",
         "type": "integer"
        },
        {
         "name": "NaceDescription_FR",
         "rawType": "object",
         "type": "unknown"
        },
        {
         "name": "JuridicalForm",
         "rawType": "float64",
         "type": "float"
        },
        {
         "name": "JuridicalForm_FR",
         "rawType": "float64",
         "type": "float"
        },
        {
         "name": "EnterpriseCount",
         "rawType": "int64",
         "type": "integer"
        }
       ],
       "ref": "2537ff61-9f39-4da7-8f4d-d6cc36028f38",
       "rows": [
        [
         "0",
         "47",
         "Commerce de détail",
         null,
         null,
         "114590"
        ],
        [
         "1",
         "70",
         "Activités des sièges sociaux et conseil de gestion",
         "610.0",
         null,
         "85628"
        ],
        [
         "2",
         "43",
         "Travaux de construction spécialisés",
         null,
         null,
         "85218"
        ],
        [
         "3",
         "47",
         "Commerce de détail",
         "610.0",
         null,
         "79464"
        ],
        [
         "4",
         "96",
         "Activités de services aux personnes",
         null,
         null,
         "77904"
        ],
        [
         "5",
         "43",
         "Travaux de construction spécialisés",
         "610.0",
         null,
         "73103"
        ],
        [
         "6",
         "82",
         "Activités de service de bureau, de soutien administratif et d’autre soutien aux entreprises",
         null,
         null,
         "64024"
        ],
        [
         "7",
         "82",
         "Activités de service de bureau, de soutien administratif et d’autre soutien aux entreprises",
         "610.0",
         null,
         "57314"
        ],
        [
         "8",
         "85",
         "Enseignement",
         null,
         null,
         "55839"
        ],
        [
         "9",
         "46",
         "Commerce de gros",
         "610.0",
         null,
         "53422"
        ],
        [
         "10",
         "86",
         "Activités pour la santé humaine",
         null,
         null,
         "49156"
        ],
        [
         "11",
         "68",
         "Activités immobilières",
         "610.0",
         null,
         "46952"
        ],
        [
         "12",
         "81",
         "Activités de services pour les bâtiments et l’aménagement paysager",
         null,
         null,
         "45923"
        ],
        [
         "13",
         "74",
         "Autres activités spécialisées, scientifiques et techniques",
         null,
         null,
         "45720"
        ],
        [
         "14",
         "62",
         "Programmation, conseil et autres activités informatiques",
         "610.0",
         null,
         "37534"
        ],
        [
         "15",
         "90",
         "Activités de création artistique et de spectacle",
         null,
         null,
         "34714"
        ],
        [
         "16",
         "46",
         "Commerce de gros",
         null,
         null,
         "33670"
        ],
        [
         "17",
         "56",
         "Activités de service de restauration",
         "610.0",
         null,
         "32997"
        ],
        [
         "18",
         "73",
         "Activités de publicité, d’études de marché et de relations publiques",
         "610.0",
         null,
         "32539"
        ],
        [
         "19",
         "64",
         "Activités de services financiers, hors assurance et fonds de pension",
         "610.0",
         null,
         "30692"
        ],
        [
         "20",
         "86",
         "Activités pour la santé humaine",
         "610.0",
         null,
         "25898"
        ],
        [
         "21",
         "56",
         "Activités de service de restauration",
         null,
         null,
         "25866"
        ],
        [
         "22",
         "71",
         "Activités d’architecture et d’ingénierie; activités de contrôle et analyses techniques",
         null,
         null,
         "25792"
        ],
        [
         "23",
         "95",
         "Réparation et entretien d’ordinateurs, de biens personnels et domestiques et d’automobiles et motocycles",
         null,
         null,
         "25391"
        ],
        [
         "24",
         "73",
         "Activités de publicité, d’études de marché et de relations publiques",
         null,
         null,
         "24837"
        ],
        [
         "25",
         "71",
         "Activités d’architecture et d’ingénierie; activités de contrôle et analyses techniques",
         "610.0",
         null,
         "23621"
        ],
        [
         "26",
         "41",
         "Construction de bâtiments résidentiels et non résidentiels",
         "610.0",
         null,
         "22898"
        ],
        [
         "27",
         "93",
         "Activités sportives et activités récréatives et de loisirs",
         null,
         null,
         "22501"
        ],
        [
         "28",
         "70",
         "Activités des sièges sociaux et conseil de gestion",
         null,
         null,
         "22244"
        ],
        [
         "29",
         "69",
         "Activités juridiques et comptables",
         "610.0",
         null,
         "21586"
        ],
        [
         "30",
         "81",
         "Activités de services pour les bâtiments et l’aménagement paysager",
         "610.0",
         null,
         "20720"
        ],
        [
         "31",
         "62",
         "Programmation, conseil et autres activités informatiques",
         null,
         null,
         "20044"
        ],
        [
         "32",
         "15",
         "Fabrication de cuir, d’articles en cuir et de produits similaires dans d’autres matières",
         null,
         null,
         "18940"
        ],
        [
         "33",
         "74",
         "Autres activités spécialisées, scientifiques et techniques",
         "610.0",
         null,
         "18641"
        ],
        [
         "34",
         "85",
         "Enseignement",
         "610.0",
         null,
         "17453"
        ],
        [
         "35",
         "69",
         "Activités juridiques et comptables",
         null,
         null,
         "16738"
        ],
        [
         "36",
         "63",
         "Infrastructure informatique, traitement de données et autres activités de service d'information",
         "610.0",
         null,
         "16380"
        ],
        [
         "37",
         "95",
         "Réparation et entretien d’ordinateurs, de biens personnels et domestiques et d’automobiles et motocycles",
         "610.0",
         null,
         "15470"
        ],
        [
         "38",
         "63",
         "Infrastructure informatique, traitement de données et autres activités de service d'information",
         null,
         null,
         "14858"
        ],
        [
         "39",
         "49",
         "Transports terrestres et transports par conduites",
         "610.0",
         null,
         "14657"
        ],
        [
         "40",
         "16",
         "Travail du bois et fabrication d’articles en bois et en liège, à l’exception des meubles; fabrication d’articles en vannerie et sparterie",
         null,
         null,
         "13716"
        ],
        [
         "41",
         "68",
         "Activités immobilières",
         "14.0",
         null,
         "13709"
        ],
        [
         "42",
         "14",
         "Industrie de l’habillement",
         null,
         null,
         "13519"
        ],
        [
         "43",
         "46",
         "Commerce de gros",
         "14.0",
         null,
         "13478"
        ],
        [
         "44",
         "96",
         "Activités de services aux personnes",
         "610.0",
         null,
         "13282"
        ],
        [
         "45",
         "41",
         "Construction de bâtiments résidentiels et non résidentiels",
         null,
         null,
         "13154"
        ],
        [
         "46",
         "47",
         "Commerce de détail",
         "15.0",
         null,
         "13010"
        ],
        [
         "47",
         "77",
         "Activités de location et location-bail",
         "610.0",
         null,
         "12992"
        ],
        [
         "48",
         "68",
         "Activités immobilières",
         null,
         null,
         "12820"
        ],
        [
         "49",
         "47",
         "Commerce de détail",
         "14.0",
         null,
         "11241"
        ]
       ],
       "shape": {
        "columns": 5,
        "rows": 2155
       }
      },
      "text/html": [
       "<div>\n",
       "<style scoped>\n",
       "    .dataframe tbody tr th:only-of-type {\n",
       "        vertical-align: middle;\n",
       "    }\n",
       "\n",
       "    .dataframe tbody tr th {\n",
       "        vertical-align: top;\n",
       "    }\n",
       "\n",
       "    .dataframe thead th {\n",
       "        text-align: right;\n",
       "    }\n",
       "</style>\n",
       "<table border=\"1\" class=\"dataframe\">\n",
       "  <thead>\n",
       "    <tr style=\"text-align: right;\">\n",
       "      <th></th>\n",
       "      <th>NaceCodeGroup</th>\n",
       "      <th>NaceDescription_FR</th>\n",
       "      <th>JuridicalForm</th>\n",
       "      <th>JuridicalForm_FR</th>\n",
       "      <th>EnterpriseCount</th>\n",
       "    </tr>\n",
       "  </thead>\n",
       "  <tbody>\n",
       "    <tr>\n",
       "      <th>0</th>\n",
       "      <td>47</td>\n",
       "      <td>Commerce de détail</td>\n",
       "      <td>NaN</td>\n",
       "      <td>NaN</td>\n",
       "      <td>114590</td>\n",
       "    </tr>\n",
       "    <tr>\n",
       "      <th>1</th>\n",
       "      <td>70</td>\n",
       "      <td>Activités des sièges sociaux et conseil de ges...</td>\n",
       "      <td>610.0</td>\n",
       "      <td>NaN</td>\n",
       "      <td>85628</td>\n",
       "    </tr>\n",
       "    <tr>\n",
       "      <th>2</th>\n",
       "      <td>43</td>\n",
       "      <td>Travaux de construction spécialisés</td>\n",
       "      <td>NaN</td>\n",
       "      <td>NaN</td>\n",
       "      <td>85218</td>\n",
       "    </tr>\n",
       "    <tr>\n",
       "      <th>3</th>\n",
       "      <td>47</td>\n",
       "      <td>Commerce de détail</td>\n",
       "      <td>610.0</td>\n",
       "      <td>NaN</td>\n",
       "      <td>79464</td>\n",
       "    </tr>\n",
       "    <tr>\n",
       "      <th>4</th>\n",
       "      <td>96</td>\n",
       "      <td>Activités de services aux personnes</td>\n",
       "      <td>NaN</td>\n",
       "      <td>NaN</td>\n",
       "      <td>77904</td>\n",
       "    </tr>\n",
       "    <tr>\n",
       "      <th>...</th>\n",
       "      <td>...</td>\n",
       "      <td>...</td>\n",
       "      <td>...</td>\n",
       "      <td>...</td>\n",
       "      <td>...</td>\n",
       "    </tr>\n",
       "    <tr>\n",
       "      <th>2150</th>\n",
       "      <td>99</td>\n",
       "      <td>Activités des organisations et organismes extr...</td>\n",
       "      <td>26.0</td>\n",
       "      <td>NaN</td>\n",
       "      <td>1</td>\n",
       "    </tr>\n",
       "    <tr>\n",
       "      <th>2151</th>\n",
       "      <td>99</td>\n",
       "      <td>Activités des organisations et organismes extr...</td>\n",
       "      <td>29.0</td>\n",
       "      <td>NaN</td>\n",
       "      <td>1</td>\n",
       "    </tr>\n",
       "    <tr>\n",
       "      <th>2152</th>\n",
       "      <td>99</td>\n",
       "      <td>Activités des organisations et organismes extr...</td>\n",
       "      <td>51.0</td>\n",
       "      <td>NaN</td>\n",
       "      <td>1</td>\n",
       "    </tr>\n",
       "    <tr>\n",
       "      <th>2153</th>\n",
       "      <td>99</td>\n",
       "      <td>Activités des organisations et organismes extr...</td>\n",
       "      <td>411.0</td>\n",
       "      <td>NaN</td>\n",
       "      <td>1</td>\n",
       "    </tr>\n",
       "    <tr>\n",
       "      <th>2154</th>\n",
       "      <td>99</td>\n",
       "      <td>Activités des organisations et organismes extr...</td>\n",
       "      <td>790.0</td>\n",
       "      <td>NaN</td>\n",
       "      <td>1</td>\n",
       "    </tr>\n",
       "  </tbody>\n",
       "</table>\n",
       "<p>2155 rows × 5 columns</p>\n",
       "</div>"
      ],
      "text/plain": [
       "      NaceCodeGroup                                 NaceDescription_FR  \\\n",
       "0                47                                 Commerce de détail   \n",
       "1                70  Activités des sièges sociaux et conseil de ges...   \n",
       "2                43                Travaux de construction spécialisés   \n",
       "3                47                                 Commerce de détail   \n",
       "4                96                Activités de services aux personnes   \n",
       "...             ...                                                ...   \n",
       "2150             99  Activités des organisations et organismes extr...   \n",
       "2151             99  Activités des organisations et organismes extr...   \n",
       "2152             99  Activités des organisations et organismes extr...   \n",
       "2153             99  Activités des organisations et organismes extr...   \n",
       "2154             99  Activités des organisations et organismes extr...   \n",
       "\n",
       "      JuridicalForm  JuridicalForm_FR  EnterpriseCount  \n",
       "0               NaN               NaN           114590  \n",
       "1             610.0               NaN            85628  \n",
       "2               NaN               NaN            85218  \n",
       "3             610.0               NaN            79464  \n",
       "4               NaN               NaN            77904  \n",
       "...             ...               ...              ...  \n",
       "2150           26.0               NaN                1  \n",
       "2151           29.0               NaN                1  \n",
       "2152           51.0               NaN                1  \n",
       "2153          411.0               NaN                1  \n",
       "2154          790.0               NaN                1  \n",
       "\n",
       "[2155 rows x 5 columns]"
      ]
     },
     "execution_count": 95,
     "metadata": {},
     "output_type": "execute_result"
    }
   ],
   "source": [
    "juridique = pd.read_csv('data/type-of-companies-by-sector-COMPLETE.csv')\n",
    "juridique"
   ]
  },
  {
   "cell_type": "code",
   "execution_count": 96,
   "id": "28b590e2",
   "metadata": {},
   "outputs": [],
   "source": [
    "jur_labeled = juridique.merge(\n",
    "    jur_codes,\n",
    "    left_on='JuridicalForm',\n",
    "    right_on='Code',\n",
    "    how='left'  \n",
    ")"
   ]
  },
  {
   "cell_type": "code",
   "execution_count": 82,
   "id": "338a40e9",
   "metadata": {},
   "outputs": [
    {
     "data": {
      "application/vnd.microsoft.datawrangler.viewer.v0+json": {
       "columns": [
        {
         "name": "index",
         "rawType": "int64",
         "type": "integer"
        },
        {
         "name": "NaceCodeGroup",
         "rawType": "int64",
         "type": "integer"
        },
        {
         "name": "NaceDescription_FR",
         "rawType": "object",
         "type": "unknown"
        },
        {
         "name": "JuridicalForm",
         "rawType": "float64",
         "type": "float"
        },
        {
         "name": "JuridicalForm_FR",
         "rawType": "float64",
         "type": "float"
        },
        {
         "name": "EnterpriseCount",
         "rawType": "int64",
         "type": "integer"
        },
        {
         "name": "Code",
         "rawType": "float64",
         "type": "float"
        },
        {
         "name": "Description",
         "rawType": "object",
         "type": "unknown"
        }
       ],
       "ref": "b4a97475-aa97-4fb8-ab4b-72a55f0fb849",
       "rows": [
        [
         "0",
         "47",
         "Commerce de détail",
         null,
         null,
         "114590",
         null,
         null
        ],
        [
         "1",
         "70",
         "Activités des sièges sociaux et conseil de gestion",
         "610.0",
         null,
         "85628",
         "610.0",
         "Société à responsabilité limitée"
        ],
        [
         "2",
         "43",
         "Travaux de construction spécialisés",
         null,
         null,
         "85218",
         null,
         null
        ],
        [
         "3",
         "47",
         "Commerce de détail",
         "610.0",
         null,
         "79464",
         "610.0",
         "Société à responsabilité limitée"
        ],
        [
         "4",
         "96",
         "Activités de services aux personnes",
         null,
         null,
         "77904",
         null,
         null
        ],
        [
         "5",
         "43",
         "Travaux de construction spécialisés",
         "610.0",
         null,
         "73103",
         "610.0",
         "Société à responsabilité limitée"
        ],
        [
         "6",
         "82",
         "Activités de service de bureau, de soutien administratif et d’autre soutien aux entreprises",
         null,
         null,
         "64024",
         null,
         null
        ],
        [
         "7",
         "82",
         "Activités de service de bureau, de soutien administratif et d’autre soutien aux entreprises",
         "610.0",
         null,
         "57314",
         "610.0",
         "Société à responsabilité limitée"
        ],
        [
         "8",
         "85",
         "Enseignement",
         null,
         null,
         "55839",
         null,
         null
        ],
        [
         "9",
         "46",
         "Commerce de gros",
         "610.0",
         null,
         "53422",
         "610.0",
         "Société à responsabilité limitée"
        ],
        [
         "10",
         "86",
         "Activités pour la santé humaine",
         null,
         null,
         "49156",
         null,
         null
        ],
        [
         "11",
         "68",
         "Activités immobilières",
         "610.0",
         null,
         "46952",
         "610.0",
         "Société à responsabilité limitée"
        ],
        [
         "12",
         "81",
         "Activités de services pour les bâtiments et l’aménagement paysager",
         null,
         null,
         "45923",
         null,
         null
        ],
        [
         "13",
         "74",
         "Autres activités spécialisées, scientifiques et techniques",
         null,
         null,
         "45720",
         null,
         null
        ],
        [
         "14",
         "62",
         "Programmation, conseil et autres activités informatiques",
         "610.0",
         null,
         "37534",
         "610.0",
         "Société à responsabilité limitée"
        ],
        [
         "15",
         "90",
         "Activités de création artistique et de spectacle",
         null,
         null,
         "34714",
         null,
         null
        ],
        [
         "16",
         "46",
         "Commerce de gros",
         null,
         null,
         "33670",
         null,
         null
        ],
        [
         "17",
         "56",
         "Activités de service de restauration",
         "610.0",
         null,
         "32997",
         "610.0",
         "Société à responsabilité limitée"
        ],
        [
         "18",
         "73",
         "Activités de publicité, d’études de marché et de relations publiques",
         "610.0",
         null,
         "32539",
         "610.0",
         "Société à responsabilité limitée"
        ],
        [
         "19",
         "64",
         "Activités de services financiers, hors assurance et fonds de pension",
         "610.0",
         null,
         "30692",
         "610.0",
         "Société à responsabilité limitée"
        ],
        [
         "20",
         "86",
         "Activités pour la santé humaine",
         "610.0",
         null,
         "25898",
         "610.0",
         "Société à responsabilité limitée"
        ],
        [
         "21",
         "56",
         "Activités de service de restauration",
         null,
         null,
         "25866",
         null,
         null
        ],
        [
         "22",
         "71",
         "Activités d’architecture et d’ingénierie; activités de contrôle et analyses techniques",
         null,
         null,
         "25792",
         null,
         null
        ],
        [
         "23",
         "95",
         "Réparation et entretien d’ordinateurs, de biens personnels et domestiques et d’automobiles et motocycles",
         null,
         null,
         "25391",
         null,
         null
        ],
        [
         "24",
         "73",
         "Activités de publicité, d’études de marché et de relations publiques",
         null,
         null,
         "24837",
         null,
         null
        ],
        [
         "25",
         "71",
         "Activités d’architecture et d’ingénierie; activités de contrôle et analyses techniques",
         "610.0",
         null,
         "23621",
         "610.0",
         "Société à responsabilité limitée"
        ],
        [
         "26",
         "41",
         "Construction de bâtiments résidentiels et non résidentiels",
         "610.0",
         null,
         "22898",
         "610.0",
         "Société à responsabilité limitée"
        ],
        [
         "27",
         "93",
         "Activités sportives et activités récréatives et de loisirs",
         null,
         null,
         "22501",
         null,
         null
        ],
        [
         "28",
         "70",
         "Activités des sièges sociaux et conseil de gestion",
         null,
         null,
         "22244",
         null,
         null
        ],
        [
         "29",
         "69",
         "Activités juridiques et comptables",
         "610.0",
         null,
         "21586",
         "610.0",
         "Société à responsabilité limitée"
        ],
        [
         "30",
         "81",
         "Activités de services pour les bâtiments et l’aménagement paysager",
         "610.0",
         null,
         "20720",
         "610.0",
         "Société à responsabilité limitée"
        ],
        [
         "31",
         "62",
         "Programmation, conseil et autres activités informatiques",
         null,
         null,
         "20044",
         null,
         null
        ],
        [
         "32",
         "15",
         "Fabrication de cuir, d’articles en cuir et de produits similaires dans d’autres matières",
         null,
         null,
         "18940",
         null,
         null
        ],
        [
         "33",
         "74",
         "Autres activités spécialisées, scientifiques et techniques",
         "610.0",
         null,
         "18641",
         "610.0",
         "Société à responsabilité limitée"
        ],
        [
         "34",
         "85",
         "Enseignement",
         "610.0",
         null,
         "17453",
         "610.0",
         "Société à responsabilité limitée"
        ],
        [
         "35",
         "69",
         "Activités juridiques et comptables",
         null,
         null,
         "16738",
         null,
         null
        ],
        [
         "36",
         "63",
         "Infrastructure informatique, traitement de données et autres activités de service d'information",
         "610.0",
         null,
         "16380",
         "610.0",
         "Société à responsabilité limitée"
        ],
        [
         "37",
         "95",
         "Réparation et entretien d’ordinateurs, de biens personnels et domestiques et d’automobiles et motocycles",
         "610.0",
         null,
         "15470",
         "610.0",
         "Société à responsabilité limitée"
        ],
        [
         "38",
         "63",
         "Infrastructure informatique, traitement de données et autres activités de service d'information",
         null,
         null,
         "14858",
         null,
         null
        ],
        [
         "39",
         "49",
         "Transports terrestres et transports par conduites",
         "610.0",
         null,
         "14657",
         "610.0",
         "Société à responsabilité limitée"
        ],
        [
         "40",
         "16",
         "Travail du bois et fabrication d’articles en bois et en liège, à l’exception des meubles; fabrication d’articles en vannerie et sparterie",
         null,
         null,
         "13716",
         null,
         null
        ],
        [
         "41",
         "68",
         "Activités immobilières",
         "14.0",
         null,
         "13709",
         "14.0",
         "Société anonyme"
        ],
        [
         "42",
         "14",
         "Industrie de l’habillement",
         null,
         null,
         "13519",
         null,
         null
        ],
        [
         "43",
         "46",
         "Commerce de gros",
         "14.0",
         null,
         "13478",
         "14.0",
         "Société anonyme"
        ],
        [
         "44",
         "96",
         "Activités de services aux personnes",
         "610.0",
         null,
         "13282",
         "610.0",
         "Société à responsabilité limitée"
        ],
        [
         "45",
         "41",
         "Construction de bâtiments résidentiels et non résidentiels",
         null,
         null,
         "13154",
         null,
         null
        ],
        [
         "46",
         "47",
         "Commerce de détail",
         "15.0",
         null,
         "13010",
         "15.0",
         "Société privée à responsabilité limitée"
        ],
        [
         "47",
         "77",
         "Activités de location et location-bail",
         "610.0",
         null,
         "12992",
         "610.0",
         "Société à responsabilité limitée"
        ],
        [
         "48",
         "68",
         "Activités immobilières",
         null,
         null,
         "12820",
         null,
         null
        ],
        [
         "49",
         "47",
         "Commerce de détail",
         "14.0",
         null,
         "11241",
         "14.0",
         "Société anonyme"
        ]
       ],
       "shape": {
        "columns": 7,
        "rows": 2155
       }
      },
      "text/html": [
       "<div>\n",
       "<style scoped>\n",
       "    .dataframe tbody tr th:only-of-type {\n",
       "        vertical-align: middle;\n",
       "    }\n",
       "\n",
       "    .dataframe tbody tr th {\n",
       "        vertical-align: top;\n",
       "    }\n",
       "\n",
       "    .dataframe thead th {\n",
       "        text-align: right;\n",
       "    }\n",
       "</style>\n",
       "<table border=\"1\" class=\"dataframe\">\n",
       "  <thead>\n",
       "    <tr style=\"text-align: right;\">\n",
       "      <th></th>\n",
       "      <th>NaceCodeGroup</th>\n",
       "      <th>NaceDescription_FR</th>\n",
       "      <th>JuridicalForm</th>\n",
       "      <th>JuridicalForm_FR</th>\n",
       "      <th>EnterpriseCount</th>\n",
       "      <th>Code</th>\n",
       "      <th>Description</th>\n",
       "    </tr>\n",
       "  </thead>\n",
       "  <tbody>\n",
       "    <tr>\n",
       "      <th>0</th>\n",
       "      <td>47</td>\n",
       "      <td>Commerce de détail</td>\n",
       "      <td>NaN</td>\n",
       "      <td>NaN</td>\n",
       "      <td>114590</td>\n",
       "      <td>NaN</td>\n",
       "      <td>NaN</td>\n",
       "    </tr>\n",
       "    <tr>\n",
       "      <th>1</th>\n",
       "      <td>70</td>\n",
       "      <td>Activités des sièges sociaux et conseil de ges...</td>\n",
       "      <td>610.0</td>\n",
       "      <td>NaN</td>\n",
       "      <td>85628</td>\n",
       "      <td>610.0</td>\n",
       "      <td>Société à responsabilité limitée</td>\n",
       "    </tr>\n",
       "    <tr>\n",
       "      <th>2</th>\n",
       "      <td>43</td>\n",
       "      <td>Travaux de construction spécialisés</td>\n",
       "      <td>NaN</td>\n",
       "      <td>NaN</td>\n",
       "      <td>85218</td>\n",
       "      <td>NaN</td>\n",
       "      <td>NaN</td>\n",
       "    </tr>\n",
       "    <tr>\n",
       "      <th>3</th>\n",
       "      <td>47</td>\n",
       "      <td>Commerce de détail</td>\n",
       "      <td>610.0</td>\n",
       "      <td>NaN</td>\n",
       "      <td>79464</td>\n",
       "      <td>610.0</td>\n",
       "      <td>Société à responsabilité limitée</td>\n",
       "    </tr>\n",
       "    <tr>\n",
       "      <th>4</th>\n",
       "      <td>96</td>\n",
       "      <td>Activités de services aux personnes</td>\n",
       "      <td>NaN</td>\n",
       "      <td>NaN</td>\n",
       "      <td>77904</td>\n",
       "      <td>NaN</td>\n",
       "      <td>NaN</td>\n",
       "    </tr>\n",
       "    <tr>\n",
       "      <th>...</th>\n",
       "      <td>...</td>\n",
       "      <td>...</td>\n",
       "      <td>...</td>\n",
       "      <td>...</td>\n",
       "      <td>...</td>\n",
       "      <td>...</td>\n",
       "      <td>...</td>\n",
       "    </tr>\n",
       "    <tr>\n",
       "      <th>2150</th>\n",
       "      <td>99</td>\n",
       "      <td>Activités des organisations et organismes extr...</td>\n",
       "      <td>26.0</td>\n",
       "      <td>NaN</td>\n",
       "      <td>1</td>\n",
       "      <td>26.0</td>\n",
       "      <td>Fondation privée</td>\n",
       "    </tr>\n",
       "    <tr>\n",
       "      <th>2151</th>\n",
       "      <td>99</td>\n",
       "      <td>Activités des organisations et organismes extr...</td>\n",
       "      <td>29.0</td>\n",
       "      <td>NaN</td>\n",
       "      <td>1</td>\n",
       "      <td>29.0</td>\n",
       "      <td>Fondation d'utilité publique</td>\n",
       "    </tr>\n",
       "    <tr>\n",
       "      <th>2152</th>\n",
       "      <td>99</td>\n",
       "      <td>Activités des organisations et organismes extr...</td>\n",
       "      <td>51.0</td>\n",
       "      <td>NaN</td>\n",
       "      <td>1</td>\n",
       "      <td>51.0</td>\n",
       "      <td>Autre forme de droit privé avec personnalité j...</td>\n",
       "    </tr>\n",
       "    <tr>\n",
       "      <th>2153</th>\n",
       "      <td>99</td>\n",
       "      <td>Activités des organisations et organismes extr...</td>\n",
       "      <td>411.0</td>\n",
       "      <td>NaN</td>\n",
       "      <td>1</td>\n",
       "      <td>411.0</td>\n",
       "      <td>Ville / commune</td>\n",
       "    </tr>\n",
       "    <tr>\n",
       "      <th>2154</th>\n",
       "      <td>99</td>\n",
       "      <td>Activités des organisations et organismes extr...</td>\n",
       "      <td>790.0</td>\n",
       "      <td>NaN</td>\n",
       "      <td>1</td>\n",
       "      <td>790.0</td>\n",
       "      <td>Divers sans personnalité juridique</td>\n",
       "    </tr>\n",
       "  </tbody>\n",
       "</table>\n",
       "<p>2155 rows × 7 columns</p>\n",
       "</div>"
      ],
      "text/plain": [
       "      NaceCodeGroup                                 NaceDescription_FR  \\\n",
       "0                47                                 Commerce de détail   \n",
       "1                70  Activités des sièges sociaux et conseil de ges...   \n",
       "2                43                Travaux de construction spécialisés   \n",
       "3                47                                 Commerce de détail   \n",
       "4                96                Activités de services aux personnes   \n",
       "...             ...                                                ...   \n",
       "2150             99  Activités des organisations et organismes extr...   \n",
       "2151             99  Activités des organisations et organismes extr...   \n",
       "2152             99  Activités des organisations et organismes extr...   \n",
       "2153             99  Activités des organisations et organismes extr...   \n",
       "2154             99  Activités des organisations et organismes extr...   \n",
       "\n",
       "      JuridicalForm  JuridicalForm_FR  EnterpriseCount   Code  \\\n",
       "0               NaN               NaN           114590    NaN   \n",
       "1             610.0               NaN            85628  610.0   \n",
       "2               NaN               NaN            85218    NaN   \n",
       "3             610.0               NaN            79464  610.0   \n",
       "4               NaN               NaN            77904    NaN   \n",
       "...             ...               ...              ...    ...   \n",
       "2150           26.0               NaN                1   26.0   \n",
       "2151           29.0               NaN                1   29.0   \n",
       "2152           51.0               NaN                1   51.0   \n",
       "2153          411.0               NaN                1  411.0   \n",
       "2154          790.0               NaN                1  790.0   \n",
       "\n",
       "                                            Description  \n",
       "0                                                   NaN  \n",
       "1                      Société à responsabilité limitée  \n",
       "2                                                   NaN  \n",
       "3                      Société à responsabilité limitée  \n",
       "4                                                   NaN  \n",
       "...                                                 ...  \n",
       "2150                                   Fondation privée  \n",
       "2151                       Fondation d'utilité publique  \n",
       "2152  Autre forme de droit privé avec personnalité j...  \n",
       "2153                                    Ville / commune  \n",
       "2154                 Divers sans personnalité juridique  \n",
       "\n",
       "[2155 rows x 7 columns]"
      ]
     },
     "execution_count": 82,
     "metadata": {},
     "output_type": "execute_result"
    }
   ],
   "source": [
    "jur_labeled "
   ]
  },
  {
   "cell_type": "code",
   "execution_count": 97,
   "id": "5cb929a5",
   "metadata": {},
   "outputs": [
    {
     "name": "stderr",
     "output_type": "stream",
     "text": [
      "C:\\Users\\herms\\AppData\\Local\\Temp\\ipykernel_32164\\1176641504.py:1: FutureWarning: Setting an item of incompatible dtype is deprecated and will raise an error in a future version of pandas. Value 'Unknown' has dtype incompatible with float64, please explicitly cast to a compatible dtype first.\n",
      "  jur_labeled .fillna(value = 'Unknown', inplace = True)\n"
     ]
    },
    {
     "data": {
      "application/vnd.microsoft.datawrangler.viewer.v0+json": {
       "columns": [
        {
         "name": "index",
         "rawType": "int64",
         "type": "integer"
        },
        {
         "name": "NaceCodeGroup",
         "rawType": "int64",
         "type": "integer"
        },
        {
         "name": "NaceDescription_FR",
         "rawType": "object",
         "type": "string"
        },
        {
         "name": "JuridicalForm",
         "rawType": "object",
         "type": "unknown"
        },
        {
         "name": "JuridicalForm_FR",
         "rawType": "object",
         "type": "string"
        },
        {
         "name": "EnterpriseCount",
         "rawType": "int64",
         "type": "integer"
        },
        {
         "name": "Code",
         "rawType": "object",
         "type": "unknown"
        },
        {
         "name": "Description",
         "rawType": "object",
         "type": "string"
        }
       ],
       "ref": "0b5c0f8b-c558-49e0-8385-6d06f3a2bf82",
       "rows": [
        [
         "0",
         "47",
         "Commerce de détail",
         "Unknown",
         "Unknown",
         "114590",
         "Unknown",
         "Unknown"
        ],
        [
         "1",
         "70",
         "Activités des sièges sociaux et conseil de gestion",
         "610.0",
         "Unknown",
         "85628",
         "610.0",
         "Société à responsabilité limitée"
        ],
        [
         "2",
         "43",
         "Travaux de construction spécialisés",
         "Unknown",
         "Unknown",
         "85218",
         "Unknown",
         "Unknown"
        ],
        [
         "3",
         "47",
         "Commerce de détail",
         "610.0",
         "Unknown",
         "79464",
         "610.0",
         "Société à responsabilité limitée"
        ],
        [
         "4",
         "96",
         "Activités de services aux personnes",
         "Unknown",
         "Unknown",
         "77904",
         "Unknown",
         "Unknown"
        ],
        [
         "5",
         "43",
         "Travaux de construction spécialisés",
         "610.0",
         "Unknown",
         "73103",
         "610.0",
         "Société à responsabilité limitée"
        ],
        [
         "6",
         "82",
         "Activités de service de bureau, de soutien administratif et d’autre soutien aux entreprises",
         "Unknown",
         "Unknown",
         "64024",
         "Unknown",
         "Unknown"
        ],
        [
         "7",
         "82",
         "Activités de service de bureau, de soutien administratif et d’autre soutien aux entreprises",
         "610.0",
         "Unknown",
         "57314",
         "610.0",
         "Société à responsabilité limitée"
        ],
        [
         "8",
         "85",
         "Enseignement",
         "Unknown",
         "Unknown",
         "55839",
         "Unknown",
         "Unknown"
        ],
        [
         "9",
         "46",
         "Commerce de gros",
         "610.0",
         "Unknown",
         "53422",
         "610.0",
         "Société à responsabilité limitée"
        ],
        [
         "10",
         "86",
         "Activités pour la santé humaine",
         "Unknown",
         "Unknown",
         "49156",
         "Unknown",
         "Unknown"
        ],
        [
         "11",
         "68",
         "Activités immobilières",
         "610.0",
         "Unknown",
         "46952",
         "610.0",
         "Société à responsabilité limitée"
        ],
        [
         "12",
         "81",
         "Activités de services pour les bâtiments et l’aménagement paysager",
         "Unknown",
         "Unknown",
         "45923",
         "Unknown",
         "Unknown"
        ],
        [
         "13",
         "74",
         "Autres activités spécialisées, scientifiques et techniques",
         "Unknown",
         "Unknown",
         "45720",
         "Unknown",
         "Unknown"
        ],
        [
         "14",
         "62",
         "Programmation, conseil et autres activités informatiques",
         "610.0",
         "Unknown",
         "37534",
         "610.0",
         "Société à responsabilité limitée"
        ],
        [
         "15",
         "90",
         "Activités de création artistique et de spectacle",
         "Unknown",
         "Unknown",
         "34714",
         "Unknown",
         "Unknown"
        ],
        [
         "16",
         "46",
         "Commerce de gros",
         "Unknown",
         "Unknown",
         "33670",
         "Unknown",
         "Unknown"
        ],
        [
         "17",
         "56",
         "Activités de service de restauration",
         "610.0",
         "Unknown",
         "32997",
         "610.0",
         "Société à responsabilité limitée"
        ],
        [
         "18",
         "73",
         "Activités de publicité, d’études de marché et de relations publiques",
         "610.0",
         "Unknown",
         "32539",
         "610.0",
         "Société à responsabilité limitée"
        ],
        [
         "19",
         "64",
         "Activités de services financiers, hors assurance et fonds de pension",
         "610.0",
         "Unknown",
         "30692",
         "610.0",
         "Société à responsabilité limitée"
        ],
        [
         "20",
         "86",
         "Activités pour la santé humaine",
         "610.0",
         "Unknown",
         "25898",
         "610.0",
         "Société à responsabilité limitée"
        ],
        [
         "21",
         "56",
         "Activités de service de restauration",
         "Unknown",
         "Unknown",
         "25866",
         "Unknown",
         "Unknown"
        ],
        [
         "22",
         "71",
         "Activités d’architecture et d’ingénierie; activités de contrôle et analyses techniques",
         "Unknown",
         "Unknown",
         "25792",
         "Unknown",
         "Unknown"
        ],
        [
         "23",
         "95",
         "Réparation et entretien d’ordinateurs, de biens personnels et domestiques et d’automobiles et motocycles",
         "Unknown",
         "Unknown",
         "25391",
         "Unknown",
         "Unknown"
        ],
        [
         "24",
         "73",
         "Activités de publicité, d’études de marché et de relations publiques",
         "Unknown",
         "Unknown",
         "24837",
         "Unknown",
         "Unknown"
        ],
        [
         "25",
         "71",
         "Activités d’architecture et d’ingénierie; activités de contrôle et analyses techniques",
         "610.0",
         "Unknown",
         "23621",
         "610.0",
         "Société à responsabilité limitée"
        ],
        [
         "26",
         "41",
         "Construction de bâtiments résidentiels et non résidentiels",
         "610.0",
         "Unknown",
         "22898",
         "610.0",
         "Société à responsabilité limitée"
        ],
        [
         "27",
         "93",
         "Activités sportives et activités récréatives et de loisirs",
         "Unknown",
         "Unknown",
         "22501",
         "Unknown",
         "Unknown"
        ],
        [
         "28",
         "70",
         "Activités des sièges sociaux et conseil de gestion",
         "Unknown",
         "Unknown",
         "22244",
         "Unknown",
         "Unknown"
        ],
        [
         "29",
         "69",
         "Activités juridiques et comptables",
         "610.0",
         "Unknown",
         "21586",
         "610.0",
         "Société à responsabilité limitée"
        ],
        [
         "30",
         "81",
         "Activités de services pour les bâtiments et l’aménagement paysager",
         "610.0",
         "Unknown",
         "20720",
         "610.0",
         "Société à responsabilité limitée"
        ],
        [
         "31",
         "62",
         "Programmation, conseil et autres activités informatiques",
         "Unknown",
         "Unknown",
         "20044",
         "Unknown",
         "Unknown"
        ],
        [
         "32",
         "15",
         "Fabrication de cuir, d’articles en cuir et de produits similaires dans d’autres matières",
         "Unknown",
         "Unknown",
         "18940",
         "Unknown",
         "Unknown"
        ],
        [
         "33",
         "74",
         "Autres activités spécialisées, scientifiques et techniques",
         "610.0",
         "Unknown",
         "18641",
         "610.0",
         "Société à responsabilité limitée"
        ],
        [
         "34",
         "85",
         "Enseignement",
         "610.0",
         "Unknown",
         "17453",
         "610.0",
         "Société à responsabilité limitée"
        ],
        [
         "35",
         "69",
         "Activités juridiques et comptables",
         "Unknown",
         "Unknown",
         "16738",
         "Unknown",
         "Unknown"
        ],
        [
         "36",
         "63",
         "Infrastructure informatique, traitement de données et autres activités de service d'information",
         "610.0",
         "Unknown",
         "16380",
         "610.0",
         "Société à responsabilité limitée"
        ],
        [
         "37",
         "95",
         "Réparation et entretien d’ordinateurs, de biens personnels et domestiques et d’automobiles et motocycles",
         "610.0",
         "Unknown",
         "15470",
         "610.0",
         "Société à responsabilité limitée"
        ],
        [
         "38",
         "63",
         "Infrastructure informatique, traitement de données et autres activités de service d'information",
         "Unknown",
         "Unknown",
         "14858",
         "Unknown",
         "Unknown"
        ],
        [
         "39",
         "49",
         "Transports terrestres et transports par conduites",
         "610.0",
         "Unknown",
         "14657",
         "610.0",
         "Société à responsabilité limitée"
        ],
        [
         "40",
         "16",
         "Travail du bois et fabrication d’articles en bois et en liège, à l’exception des meubles; fabrication d’articles en vannerie et sparterie",
         "Unknown",
         "Unknown",
         "13716",
         "Unknown",
         "Unknown"
        ],
        [
         "41",
         "68",
         "Activités immobilières",
         "14.0",
         "Unknown",
         "13709",
         "14.0",
         "Société anonyme"
        ],
        [
         "42",
         "14",
         "Industrie de l’habillement",
         "Unknown",
         "Unknown",
         "13519",
         "Unknown",
         "Unknown"
        ],
        [
         "43",
         "46",
         "Commerce de gros",
         "14.0",
         "Unknown",
         "13478",
         "14.0",
         "Société anonyme"
        ],
        [
         "44",
         "96",
         "Activités de services aux personnes",
         "610.0",
         "Unknown",
         "13282",
         "610.0",
         "Société à responsabilité limitée"
        ],
        [
         "45",
         "41",
         "Construction de bâtiments résidentiels et non résidentiels",
         "Unknown",
         "Unknown",
         "13154",
         "Unknown",
         "Unknown"
        ],
        [
         "46",
         "47",
         "Commerce de détail",
         "15.0",
         "Unknown",
         "13010",
         "15.0",
         "Société privée à responsabilité limitée"
        ],
        [
         "47",
         "77",
         "Activités de location et location-bail",
         "610.0",
         "Unknown",
         "12992",
         "610.0",
         "Société à responsabilité limitée"
        ],
        [
         "48",
         "68",
         "Activités immobilières",
         "Unknown",
         "Unknown",
         "12820",
         "Unknown",
         "Unknown"
        ],
        [
         "49",
         "47",
         "Commerce de détail",
         "14.0",
         "Unknown",
         "11241",
         "14.0",
         "Société anonyme"
        ]
       ],
       "shape": {
        "columns": 7,
        "rows": 2155
       }
      },
      "text/html": [
       "<div>\n",
       "<style scoped>\n",
       "    .dataframe tbody tr th:only-of-type {\n",
       "        vertical-align: middle;\n",
       "    }\n",
       "\n",
       "    .dataframe tbody tr th {\n",
       "        vertical-align: top;\n",
       "    }\n",
       "\n",
       "    .dataframe thead th {\n",
       "        text-align: right;\n",
       "    }\n",
       "</style>\n",
       "<table border=\"1\" class=\"dataframe\">\n",
       "  <thead>\n",
       "    <tr style=\"text-align: right;\">\n",
       "      <th></th>\n",
       "      <th>NaceCodeGroup</th>\n",
       "      <th>NaceDescription_FR</th>\n",
       "      <th>JuridicalForm</th>\n",
       "      <th>JuridicalForm_FR</th>\n",
       "      <th>EnterpriseCount</th>\n",
       "      <th>Code</th>\n",
       "      <th>Description</th>\n",
       "    </tr>\n",
       "  </thead>\n",
       "  <tbody>\n",
       "    <tr>\n",
       "      <th>0</th>\n",
       "      <td>47</td>\n",
       "      <td>Commerce de détail</td>\n",
       "      <td>Unknown</td>\n",
       "      <td>Unknown</td>\n",
       "      <td>114590</td>\n",
       "      <td>Unknown</td>\n",
       "      <td>Unknown</td>\n",
       "    </tr>\n",
       "    <tr>\n",
       "      <th>1</th>\n",
       "      <td>70</td>\n",
       "      <td>Activités des sièges sociaux et conseil de ges...</td>\n",
       "      <td>610.0</td>\n",
       "      <td>Unknown</td>\n",
       "      <td>85628</td>\n",
       "      <td>610.0</td>\n",
       "      <td>Société à responsabilité limitée</td>\n",
       "    </tr>\n",
       "    <tr>\n",
       "      <th>2</th>\n",
       "      <td>43</td>\n",
       "      <td>Travaux de construction spécialisés</td>\n",
       "      <td>Unknown</td>\n",
       "      <td>Unknown</td>\n",
       "      <td>85218</td>\n",
       "      <td>Unknown</td>\n",
       "      <td>Unknown</td>\n",
       "    </tr>\n",
       "    <tr>\n",
       "      <th>3</th>\n",
       "      <td>47</td>\n",
       "      <td>Commerce de détail</td>\n",
       "      <td>610.0</td>\n",
       "      <td>Unknown</td>\n",
       "      <td>79464</td>\n",
       "      <td>610.0</td>\n",
       "      <td>Société à responsabilité limitée</td>\n",
       "    </tr>\n",
       "    <tr>\n",
       "      <th>4</th>\n",
       "      <td>96</td>\n",
       "      <td>Activités de services aux personnes</td>\n",
       "      <td>Unknown</td>\n",
       "      <td>Unknown</td>\n",
       "      <td>77904</td>\n",
       "      <td>Unknown</td>\n",
       "      <td>Unknown</td>\n",
       "    </tr>\n",
       "    <tr>\n",
       "      <th>...</th>\n",
       "      <td>...</td>\n",
       "      <td>...</td>\n",
       "      <td>...</td>\n",
       "      <td>...</td>\n",
       "      <td>...</td>\n",
       "      <td>...</td>\n",
       "      <td>...</td>\n",
       "    </tr>\n",
       "    <tr>\n",
       "      <th>2150</th>\n",
       "      <td>99</td>\n",
       "      <td>Activités des organisations et organismes extr...</td>\n",
       "      <td>26.0</td>\n",
       "      <td>Unknown</td>\n",
       "      <td>1</td>\n",
       "      <td>26.0</td>\n",
       "      <td>Fondation privée</td>\n",
       "    </tr>\n",
       "    <tr>\n",
       "      <th>2151</th>\n",
       "      <td>99</td>\n",
       "      <td>Activités des organisations et organismes extr...</td>\n",
       "      <td>29.0</td>\n",
       "      <td>Unknown</td>\n",
       "      <td>1</td>\n",
       "      <td>29.0</td>\n",
       "      <td>Fondation d'utilité publique</td>\n",
       "    </tr>\n",
       "    <tr>\n",
       "      <th>2152</th>\n",
       "      <td>99</td>\n",
       "      <td>Activités des organisations et organismes extr...</td>\n",
       "      <td>51.0</td>\n",
       "      <td>Unknown</td>\n",
       "      <td>1</td>\n",
       "      <td>51.0</td>\n",
       "      <td>Autre forme de droit privé avec personnalité j...</td>\n",
       "    </tr>\n",
       "    <tr>\n",
       "      <th>2153</th>\n",
       "      <td>99</td>\n",
       "      <td>Activités des organisations et organismes extr...</td>\n",
       "      <td>411.0</td>\n",
       "      <td>Unknown</td>\n",
       "      <td>1</td>\n",
       "      <td>411.0</td>\n",
       "      <td>Ville / commune</td>\n",
       "    </tr>\n",
       "    <tr>\n",
       "      <th>2154</th>\n",
       "      <td>99</td>\n",
       "      <td>Activités des organisations et organismes extr...</td>\n",
       "      <td>790.0</td>\n",
       "      <td>Unknown</td>\n",
       "      <td>1</td>\n",
       "      <td>790.0</td>\n",
       "      <td>Divers sans personnalité juridique</td>\n",
       "    </tr>\n",
       "  </tbody>\n",
       "</table>\n",
       "<p>2155 rows × 7 columns</p>\n",
       "</div>"
      ],
      "text/plain": [
       "      NaceCodeGroup                                 NaceDescription_FR  \\\n",
       "0                47                                 Commerce de détail   \n",
       "1                70  Activités des sièges sociaux et conseil de ges...   \n",
       "2                43                Travaux de construction spécialisés   \n",
       "3                47                                 Commerce de détail   \n",
       "4                96                Activités de services aux personnes   \n",
       "...             ...                                                ...   \n",
       "2150             99  Activités des organisations et organismes extr...   \n",
       "2151             99  Activités des organisations et organismes extr...   \n",
       "2152             99  Activités des organisations et organismes extr...   \n",
       "2153             99  Activités des organisations et organismes extr...   \n",
       "2154             99  Activités des organisations et organismes extr...   \n",
       "\n",
       "     JuridicalForm JuridicalForm_FR  EnterpriseCount     Code  \\\n",
       "0          Unknown          Unknown           114590  Unknown   \n",
       "1            610.0          Unknown            85628    610.0   \n",
       "2          Unknown          Unknown            85218  Unknown   \n",
       "3            610.0          Unknown            79464    610.0   \n",
       "4          Unknown          Unknown            77904  Unknown   \n",
       "...            ...              ...              ...      ...   \n",
       "2150          26.0          Unknown                1     26.0   \n",
       "2151          29.0          Unknown                1     29.0   \n",
       "2152          51.0          Unknown                1     51.0   \n",
       "2153         411.0          Unknown                1    411.0   \n",
       "2154         790.0          Unknown                1    790.0   \n",
       "\n",
       "                                            Description  \n",
       "0                                               Unknown  \n",
       "1                      Société à responsabilité limitée  \n",
       "2                                               Unknown  \n",
       "3                      Société à responsabilité limitée  \n",
       "4                                               Unknown  \n",
       "...                                                 ...  \n",
       "2150                                   Fondation privée  \n",
       "2151                       Fondation d'utilité publique  \n",
       "2152  Autre forme de droit privé avec personnalité j...  \n",
       "2153                                    Ville / commune  \n",
       "2154                 Divers sans personnalité juridique  \n",
       "\n",
       "[2155 rows x 7 columns]"
      ]
     },
     "execution_count": 97,
     "metadata": {},
     "output_type": "execute_result"
    }
   ],
   "source": [
    "jur_labeled .fillna(value = 'Unknown', inplace = True)\n",
    "jur_labeled "
   ]
  },
  {
   "cell_type": "code",
   "execution_count": 98,
   "id": "2f7647bb",
   "metadata": {},
   "outputs": [],
   "source": [
    "filtered_juridique = jur_labeled [jur_labeled['NaceCodeGroup'].isin(top_ten_sectors['NaceCodeGroup'])]"
   ]
  },
  {
   "cell_type": "code",
   "execution_count": 99,
   "id": "a66f5691",
   "metadata": {},
   "outputs": [],
   "source": [
    "top_forms = filtered_juridique['Description'].value_counts().head(5).index\n",
    "filtered_juridique = filtered_juridique[filtered_juridique['Description'].isin(top_forms)]\n"
   ]
  },
  {
   "cell_type": "code",
   "execution_count": 100,
   "id": "49295421",
   "metadata": {},
   "outputs": [
    {
     "data": {
      "application/vnd.microsoft.datawrangler.viewer.v0+json": {
       "columns": [
        {
         "name": "index",
         "rawType": "int64",
         "type": "integer"
        },
        {
         "name": "NaceCodeGroup",
         "rawType": "int64",
         "type": "integer"
        },
        {
         "name": "NaceDescription_FR",
         "rawType": "object",
         "type": "string"
        },
        {
         "name": "JuridicalForm",
         "rawType": "object",
         "type": "unknown"
        },
        {
         "name": "JuridicalForm_FR",
         "rawType": "object",
         "type": "string"
        },
        {
         "name": "EnterpriseCount",
         "rawType": "int64",
         "type": "integer"
        },
        {
         "name": "Code",
         "rawType": "object",
         "type": "unknown"
        },
        {
         "name": "Description",
         "rawType": "object",
         "type": "string"
        }
       ],
       "ref": "d771f38a-ea6c-409f-bc51-32371309b65a",
       "rows": [
        [
         "0",
         "47",
         "Commerce de détail",
         "Unknown",
         "Unknown",
         "114590",
         "Unknown",
         "Unknown"
        ],
        [
         "1",
         "70",
         "Activités des sièges sociaux et conseil de gestion",
         "610.0",
         "Unknown",
         "85628",
         "610.0",
         "Société à responsabilité limitée"
        ],
        [
         "2",
         "43",
         "Travaux de construction spécialisés",
         "Unknown",
         "Unknown",
         "85218",
         "Unknown",
         "Unknown"
        ],
        [
         "3",
         "47",
         "Commerce de détail",
         "610.0",
         "Unknown",
         "79464",
         "610.0",
         "Société à responsabilité limitée"
        ],
        [
         "4",
         "96",
         "Activités de services aux personnes",
         "Unknown",
         "Unknown",
         "77904",
         "Unknown",
         "Unknown"
        ],
        [
         "5",
         "43",
         "Travaux de construction spécialisés",
         "610.0",
         "Unknown",
         "73103",
         "610.0",
         "Société à responsabilité limitée"
        ],
        [
         "6",
         "82",
         "Activités de service de bureau, de soutien administratif et d’autre soutien aux entreprises",
         "Unknown",
         "Unknown",
         "64024",
         "Unknown",
         "Unknown"
        ],
        [
         "7",
         "82",
         "Activités de service de bureau, de soutien administratif et d’autre soutien aux entreprises",
         "610.0",
         "Unknown",
         "57314",
         "610.0",
         "Société à responsabilité limitée"
        ],
        [
         "8",
         "85",
         "Enseignement",
         "Unknown",
         "Unknown",
         "55839",
         "Unknown",
         "Unknown"
        ],
        [
         "9",
         "46",
         "Commerce de gros",
         "610.0",
         "Unknown",
         "53422",
         "610.0",
         "Société à responsabilité limitée"
        ],
        [
         "10",
         "86",
         "Activités pour la santé humaine",
         "Unknown",
         "Unknown",
         "49156",
         "Unknown",
         "Unknown"
        ],
        [
         "11",
         "68",
         "Activités immobilières",
         "610.0",
         "Unknown",
         "46952",
         "610.0",
         "Société à responsabilité limitée"
        ],
        [
         "16",
         "46",
         "Commerce de gros",
         "Unknown",
         "Unknown",
         "33670",
         "Unknown",
         "Unknown"
        ],
        [
         "17",
         "56",
         "Activités de service de restauration",
         "610.0",
         "Unknown",
         "32997",
         "610.0",
         "Société à responsabilité limitée"
        ],
        [
         "20",
         "86",
         "Activités pour la santé humaine",
         "610.0",
         "Unknown",
         "25898",
         "610.0",
         "Société à responsabilité limitée"
        ],
        [
         "21",
         "56",
         "Activités de service de restauration",
         "Unknown",
         "Unknown",
         "25866",
         "Unknown",
         "Unknown"
        ],
        [
         "28",
         "70",
         "Activités des sièges sociaux et conseil de gestion",
         "Unknown",
         "Unknown",
         "22244",
         "Unknown",
         "Unknown"
        ],
        [
         "34",
         "85",
         "Enseignement",
         "610.0",
         "Unknown",
         "17453",
         "610.0",
         "Société à responsabilité limitée"
        ],
        [
         "41",
         "68",
         "Activités immobilières",
         "14.0",
         "Unknown",
         "13709",
         "14.0",
         "Société anonyme"
        ],
        [
         "43",
         "46",
         "Commerce de gros",
         "14.0",
         "Unknown",
         "13478",
         "14.0",
         "Société anonyme"
        ],
        [
         "44",
         "96",
         "Activités de services aux personnes",
         "610.0",
         "Unknown",
         "13282",
         "610.0",
         "Société à responsabilité limitée"
        ],
        [
         "46",
         "47",
         "Commerce de détail",
         "15.0",
         "Unknown",
         "13010",
         "15.0",
         "Société privée à responsabilité limitée"
        ],
        [
         "48",
         "68",
         "Activités immobilières",
         "Unknown",
         "Unknown",
         "12820",
         "Unknown",
         "Unknown"
        ],
        [
         "49",
         "47",
         "Commerce de détail",
         "14.0",
         "Unknown",
         "11241",
         "14.0",
         "Société anonyme"
        ],
        [
         "50",
         "70",
         "Activités des sièges sociaux et conseil de gestion",
         "612.0",
         "Unknown",
         "10798",
         "612.0",
         "Société en commandite"
        ],
        [
         "53",
         "82",
         "Activités de service de bureau, de soutien administratif et d’autre soutien aux entreprises",
         "612.0",
         "Unknown",
         "9823",
         "612.0",
         "Société en commandite"
        ],
        [
         "54",
         "43",
         "Travaux de construction spécialisés",
         "15.0",
         "Unknown",
         "9684",
         "15.0",
         "Société privée à responsabilité limitée"
        ],
        [
         "59",
         "46",
         "Commerce de gros",
         "15.0",
         "Unknown",
         "8819",
         "15.0",
         "Société privée à responsabilité limitée"
        ],
        [
         "62",
         "70",
         "Activités des sièges sociaux et conseil de gestion",
         "14.0",
         "Unknown",
         "8380",
         "14.0",
         "Société anonyme"
        ],
        [
         "64",
         "70",
         "Activités des sièges sociaux et conseil de gestion",
         "15.0",
         "Unknown",
         "7959",
         "15.0",
         "Société privée à responsabilité limitée"
        ],
        [
         "73",
         "56",
         "Activités de service de restauration",
         "15.0",
         "Unknown",
         "6657",
         "15.0",
         "Société privée à responsabilité limitée"
        ],
        [
         "85",
         "68",
         "Activités immobilières",
         "15.0",
         "Unknown",
         "5184",
         "15.0",
         "Société privée à responsabilité limitée"
        ],
        [
         "86",
         "47",
         "Commerce de détail",
         "612.0",
         "Unknown",
         "5111",
         "612.0",
         "Société en commandite"
        ],
        [
         "89",
         "43",
         "Travaux de construction spécialisés",
         "14.0",
         "Unknown",
         "4978",
         "14.0",
         "Société anonyme"
        ],
        [
         "92",
         "43",
         "Travaux de construction spécialisés",
         "612.0",
         "Unknown",
         "4526",
         "612.0",
         "Société en commandite"
        ],
        [
         "97",
         "82",
         "Activités de service de bureau, de soutien administratif et d’autre soutien aux entreprises",
         "15.0",
         "Unknown",
         "4298",
         "15.0",
         "Société privée à responsabilité limitée"
        ],
        [
         "98",
         "82",
         "Activités de service de bureau, de soutien administratif et d’autre soutien aux entreprises",
         "14.0",
         "Unknown",
         "4159",
         "14.0",
         "Société anonyme"
        ],
        [
         "103",
         "85",
         "Enseignement",
         "612.0",
         "Unknown",
         "3972",
         "612.0",
         "Société en commandite"
        ],
        [
         "116",
         "46",
         "Commerce de gros",
         "612.0",
         "Unknown",
         "3338",
         "612.0",
         "Société en commandite"
        ],
        [
         "118",
         "86",
         "Activités pour la santé humaine",
         "612.0",
         "Unknown",
         "3234",
         "612.0",
         "Société en commandite"
        ],
        [
         "138",
         "68",
         "Activités immobilières",
         "612.0",
         "Unknown",
         "2376",
         "612.0",
         "Société en commandite"
        ],
        [
         "149",
         "96",
         "Activités de services aux personnes",
         "612.0",
         "Unknown",
         "2127",
         "612.0",
         "Société en commandite"
        ],
        [
         "159",
         "56",
         "Activités de service de restauration",
         "14.0",
         "Unknown",
         "1851",
         "14.0",
         "Société anonyme"
        ],
        [
         "160",
         "96",
         "Activités de services aux personnes",
         "15.0",
         "Unknown",
         "1838",
         "15.0",
         "Société privée à responsabilité limitée"
        ],
        [
         "177",
         "86",
         "Activités pour la santé humaine",
         "15.0",
         "Unknown",
         "1592",
         "15.0",
         "Société privée à responsabilité limitée"
        ],
        [
         "188",
         "56",
         "Activités de service de restauration",
         "612.0",
         "Unknown",
         "1418",
         "612.0",
         "Société en commandite"
        ],
        [
         "201",
         "85",
         "Enseignement",
         "15.0",
         "Unknown",
         "1262",
         "15.0",
         "Société privée à responsabilité limitée"
        ],
        [
         "295",
         "96",
         "Activités de services aux personnes",
         "14.0",
         "Unknown",
         "603",
         "14.0",
         "Société anonyme"
        ],
        [
         "321",
         "85",
         "Enseignement",
         "14.0",
         "Unknown",
         "521",
         "14.0",
         "Société anonyme"
        ],
        [
         "408",
         "86",
         "Activités pour la santé humaine",
         "14.0",
         "Unknown",
         "261",
         "14.0",
         "Société anonyme"
        ]
       ],
       "shape": {
        "columns": 7,
        "rows": 50
       }
      },
      "text/html": [
       "<div>\n",
       "<style scoped>\n",
       "    .dataframe tbody tr th:only-of-type {\n",
       "        vertical-align: middle;\n",
       "    }\n",
       "\n",
       "    .dataframe tbody tr th {\n",
       "        vertical-align: top;\n",
       "    }\n",
       "\n",
       "    .dataframe thead th {\n",
       "        text-align: right;\n",
       "    }\n",
       "</style>\n",
       "<table border=\"1\" class=\"dataframe\">\n",
       "  <thead>\n",
       "    <tr style=\"text-align: right;\">\n",
       "      <th></th>\n",
       "      <th>NaceCodeGroup</th>\n",
       "      <th>NaceDescription_FR</th>\n",
       "      <th>JuridicalForm</th>\n",
       "      <th>JuridicalForm_FR</th>\n",
       "      <th>EnterpriseCount</th>\n",
       "      <th>Code</th>\n",
       "      <th>Description</th>\n",
       "    </tr>\n",
       "  </thead>\n",
       "  <tbody>\n",
       "    <tr>\n",
       "      <th>0</th>\n",
       "      <td>47</td>\n",
       "      <td>Commerce de détail</td>\n",
       "      <td>Unknown</td>\n",
       "      <td>Unknown</td>\n",
       "      <td>114590</td>\n",
       "      <td>Unknown</td>\n",
       "      <td>Unknown</td>\n",
       "    </tr>\n",
       "    <tr>\n",
       "      <th>1</th>\n",
       "      <td>70</td>\n",
       "      <td>Activités des sièges sociaux et conseil de ges...</td>\n",
       "      <td>610.0</td>\n",
       "      <td>Unknown</td>\n",
       "      <td>85628</td>\n",
       "      <td>610.0</td>\n",
       "      <td>Société à responsabilité limitée</td>\n",
       "    </tr>\n",
       "    <tr>\n",
       "      <th>2</th>\n",
       "      <td>43</td>\n",
       "      <td>Travaux de construction spécialisés</td>\n",
       "      <td>Unknown</td>\n",
       "      <td>Unknown</td>\n",
       "      <td>85218</td>\n",
       "      <td>Unknown</td>\n",
       "      <td>Unknown</td>\n",
       "    </tr>\n",
       "    <tr>\n",
       "      <th>3</th>\n",
       "      <td>47</td>\n",
       "      <td>Commerce de détail</td>\n",
       "      <td>610.0</td>\n",
       "      <td>Unknown</td>\n",
       "      <td>79464</td>\n",
       "      <td>610.0</td>\n",
       "      <td>Société à responsabilité limitée</td>\n",
       "    </tr>\n",
       "    <tr>\n",
       "      <th>4</th>\n",
       "      <td>96</td>\n",
       "      <td>Activités de services aux personnes</td>\n",
       "      <td>Unknown</td>\n",
       "      <td>Unknown</td>\n",
       "      <td>77904</td>\n",
       "      <td>Unknown</td>\n",
       "      <td>Unknown</td>\n",
       "    </tr>\n",
       "    <tr>\n",
       "      <th>5</th>\n",
       "      <td>43</td>\n",
       "      <td>Travaux de construction spécialisés</td>\n",
       "      <td>610.0</td>\n",
       "      <td>Unknown</td>\n",
       "      <td>73103</td>\n",
       "      <td>610.0</td>\n",
       "      <td>Société à responsabilité limitée</td>\n",
       "    </tr>\n",
       "    <tr>\n",
       "      <th>6</th>\n",
       "      <td>82</td>\n",
       "      <td>Activités de service de bureau, de soutien adm...</td>\n",
       "      <td>Unknown</td>\n",
       "      <td>Unknown</td>\n",
       "      <td>64024</td>\n",
       "      <td>Unknown</td>\n",
       "      <td>Unknown</td>\n",
       "    </tr>\n",
       "    <tr>\n",
       "      <th>7</th>\n",
       "      <td>82</td>\n",
       "      <td>Activités de service de bureau, de soutien adm...</td>\n",
       "      <td>610.0</td>\n",
       "      <td>Unknown</td>\n",
       "      <td>57314</td>\n",
       "      <td>610.0</td>\n",
       "      <td>Société à responsabilité limitée</td>\n",
       "    </tr>\n",
       "    <tr>\n",
       "      <th>8</th>\n",
       "      <td>85</td>\n",
       "      <td>Enseignement</td>\n",
       "      <td>Unknown</td>\n",
       "      <td>Unknown</td>\n",
       "      <td>55839</td>\n",
       "      <td>Unknown</td>\n",
       "      <td>Unknown</td>\n",
       "    </tr>\n",
       "    <tr>\n",
       "      <th>9</th>\n",
       "      <td>46</td>\n",
       "      <td>Commerce de gros</td>\n",
       "      <td>610.0</td>\n",
       "      <td>Unknown</td>\n",
       "      <td>53422</td>\n",
       "      <td>610.0</td>\n",
       "      <td>Société à responsabilité limitée</td>\n",
       "    </tr>\n",
       "    <tr>\n",
       "      <th>10</th>\n",
       "      <td>86</td>\n",
       "      <td>Activités pour la santé humaine</td>\n",
       "      <td>Unknown</td>\n",
       "      <td>Unknown</td>\n",
       "      <td>49156</td>\n",
       "      <td>Unknown</td>\n",
       "      <td>Unknown</td>\n",
       "    </tr>\n",
       "    <tr>\n",
       "      <th>11</th>\n",
       "      <td>68</td>\n",
       "      <td>Activités immobilières</td>\n",
       "      <td>610.0</td>\n",
       "      <td>Unknown</td>\n",
       "      <td>46952</td>\n",
       "      <td>610.0</td>\n",
       "      <td>Société à responsabilité limitée</td>\n",
       "    </tr>\n",
       "    <tr>\n",
       "      <th>16</th>\n",
       "      <td>46</td>\n",
       "      <td>Commerce de gros</td>\n",
       "      <td>Unknown</td>\n",
       "      <td>Unknown</td>\n",
       "      <td>33670</td>\n",
       "      <td>Unknown</td>\n",
       "      <td>Unknown</td>\n",
       "    </tr>\n",
       "    <tr>\n",
       "      <th>17</th>\n",
       "      <td>56</td>\n",
       "      <td>Activités de service de restauration</td>\n",
       "      <td>610.0</td>\n",
       "      <td>Unknown</td>\n",
       "      <td>32997</td>\n",
       "      <td>610.0</td>\n",
       "      <td>Société à responsabilité limitée</td>\n",
       "    </tr>\n",
       "    <tr>\n",
       "      <th>20</th>\n",
       "      <td>86</td>\n",
       "      <td>Activités pour la santé humaine</td>\n",
       "      <td>610.0</td>\n",
       "      <td>Unknown</td>\n",
       "      <td>25898</td>\n",
       "      <td>610.0</td>\n",
       "      <td>Société à responsabilité limitée</td>\n",
       "    </tr>\n",
       "    <tr>\n",
       "      <th>21</th>\n",
       "      <td>56</td>\n",
       "      <td>Activités de service de restauration</td>\n",
       "      <td>Unknown</td>\n",
       "      <td>Unknown</td>\n",
       "      <td>25866</td>\n",
       "      <td>Unknown</td>\n",
       "      <td>Unknown</td>\n",
       "    </tr>\n",
       "    <tr>\n",
       "      <th>28</th>\n",
       "      <td>70</td>\n",
       "      <td>Activités des sièges sociaux et conseil de ges...</td>\n",
       "      <td>Unknown</td>\n",
       "      <td>Unknown</td>\n",
       "      <td>22244</td>\n",
       "      <td>Unknown</td>\n",
       "      <td>Unknown</td>\n",
       "    </tr>\n",
       "    <tr>\n",
       "      <th>34</th>\n",
       "      <td>85</td>\n",
       "      <td>Enseignement</td>\n",
       "      <td>610.0</td>\n",
       "      <td>Unknown</td>\n",
       "      <td>17453</td>\n",
       "      <td>610.0</td>\n",
       "      <td>Société à responsabilité limitée</td>\n",
       "    </tr>\n",
       "    <tr>\n",
       "      <th>41</th>\n",
       "      <td>68</td>\n",
       "      <td>Activités immobilières</td>\n",
       "      <td>14.0</td>\n",
       "      <td>Unknown</td>\n",
       "      <td>13709</td>\n",
       "      <td>14.0</td>\n",
       "      <td>Société anonyme</td>\n",
       "    </tr>\n",
       "    <tr>\n",
       "      <th>43</th>\n",
       "      <td>46</td>\n",
       "      <td>Commerce de gros</td>\n",
       "      <td>14.0</td>\n",
       "      <td>Unknown</td>\n",
       "      <td>13478</td>\n",
       "      <td>14.0</td>\n",
       "      <td>Société anonyme</td>\n",
       "    </tr>\n",
       "    <tr>\n",
       "      <th>44</th>\n",
       "      <td>96</td>\n",
       "      <td>Activités de services aux personnes</td>\n",
       "      <td>610.0</td>\n",
       "      <td>Unknown</td>\n",
       "      <td>13282</td>\n",
       "      <td>610.0</td>\n",
       "      <td>Société à responsabilité limitée</td>\n",
       "    </tr>\n",
       "    <tr>\n",
       "      <th>46</th>\n",
       "      <td>47</td>\n",
       "      <td>Commerce de détail</td>\n",
       "      <td>15.0</td>\n",
       "      <td>Unknown</td>\n",
       "      <td>13010</td>\n",
       "      <td>15.0</td>\n",
       "      <td>Société privée à responsabilité limitée</td>\n",
       "    </tr>\n",
       "    <tr>\n",
       "      <th>48</th>\n",
       "      <td>68</td>\n",
       "      <td>Activités immobilières</td>\n",
       "      <td>Unknown</td>\n",
       "      <td>Unknown</td>\n",
       "      <td>12820</td>\n",
       "      <td>Unknown</td>\n",
       "      <td>Unknown</td>\n",
       "    </tr>\n",
       "    <tr>\n",
       "      <th>49</th>\n",
       "      <td>47</td>\n",
       "      <td>Commerce de détail</td>\n",
       "      <td>14.0</td>\n",
       "      <td>Unknown</td>\n",
       "      <td>11241</td>\n",
       "      <td>14.0</td>\n",
       "      <td>Société anonyme</td>\n",
       "    </tr>\n",
       "    <tr>\n",
       "      <th>50</th>\n",
       "      <td>70</td>\n",
       "      <td>Activités des sièges sociaux et conseil de ges...</td>\n",
       "      <td>612.0</td>\n",
       "      <td>Unknown</td>\n",
       "      <td>10798</td>\n",
       "      <td>612.0</td>\n",
       "      <td>Société en commandite</td>\n",
       "    </tr>\n",
       "    <tr>\n",
       "      <th>53</th>\n",
       "      <td>82</td>\n",
       "      <td>Activités de service de bureau, de soutien adm...</td>\n",
       "      <td>612.0</td>\n",
       "      <td>Unknown</td>\n",
       "      <td>9823</td>\n",
       "      <td>612.0</td>\n",
       "      <td>Société en commandite</td>\n",
       "    </tr>\n",
       "    <tr>\n",
       "      <th>54</th>\n",
       "      <td>43</td>\n",
       "      <td>Travaux de construction spécialisés</td>\n",
       "      <td>15.0</td>\n",
       "      <td>Unknown</td>\n",
       "      <td>9684</td>\n",
       "      <td>15.0</td>\n",
       "      <td>Société privée à responsabilité limitée</td>\n",
       "    </tr>\n",
       "    <tr>\n",
       "      <th>59</th>\n",
       "      <td>46</td>\n",
       "      <td>Commerce de gros</td>\n",
       "      <td>15.0</td>\n",
       "      <td>Unknown</td>\n",
       "      <td>8819</td>\n",
       "      <td>15.0</td>\n",
       "      <td>Société privée à responsabilité limitée</td>\n",
       "    </tr>\n",
       "    <tr>\n",
       "      <th>62</th>\n",
       "      <td>70</td>\n",
       "      <td>Activités des sièges sociaux et conseil de ges...</td>\n",
       "      <td>14.0</td>\n",
       "      <td>Unknown</td>\n",
       "      <td>8380</td>\n",
       "      <td>14.0</td>\n",
       "      <td>Société anonyme</td>\n",
       "    </tr>\n",
       "    <tr>\n",
       "      <th>64</th>\n",
       "      <td>70</td>\n",
       "      <td>Activités des sièges sociaux et conseil de ges...</td>\n",
       "      <td>15.0</td>\n",
       "      <td>Unknown</td>\n",
       "      <td>7959</td>\n",
       "      <td>15.0</td>\n",
       "      <td>Société privée à responsabilité limitée</td>\n",
       "    </tr>\n",
       "    <tr>\n",
       "      <th>73</th>\n",
       "      <td>56</td>\n",
       "      <td>Activités de service de restauration</td>\n",
       "      <td>15.0</td>\n",
       "      <td>Unknown</td>\n",
       "      <td>6657</td>\n",
       "      <td>15.0</td>\n",
       "      <td>Société privée à responsabilité limitée</td>\n",
       "    </tr>\n",
       "    <tr>\n",
       "      <th>85</th>\n",
       "      <td>68</td>\n",
       "      <td>Activités immobilières</td>\n",
       "      <td>15.0</td>\n",
       "      <td>Unknown</td>\n",
       "      <td>5184</td>\n",
       "      <td>15.0</td>\n",
       "      <td>Société privée à responsabilité limitée</td>\n",
       "    </tr>\n",
       "    <tr>\n",
       "      <th>86</th>\n",
       "      <td>47</td>\n",
       "      <td>Commerce de détail</td>\n",
       "      <td>612.0</td>\n",
       "      <td>Unknown</td>\n",
       "      <td>5111</td>\n",
       "      <td>612.0</td>\n",
       "      <td>Société en commandite</td>\n",
       "    </tr>\n",
       "    <tr>\n",
       "      <th>89</th>\n",
       "      <td>43</td>\n",
       "      <td>Travaux de construction spécialisés</td>\n",
       "      <td>14.0</td>\n",
       "      <td>Unknown</td>\n",
       "      <td>4978</td>\n",
       "      <td>14.0</td>\n",
       "      <td>Société anonyme</td>\n",
       "    </tr>\n",
       "    <tr>\n",
       "      <th>92</th>\n",
       "      <td>43</td>\n",
       "      <td>Travaux de construction spécialisés</td>\n",
       "      <td>612.0</td>\n",
       "      <td>Unknown</td>\n",
       "      <td>4526</td>\n",
       "      <td>612.0</td>\n",
       "      <td>Société en commandite</td>\n",
       "    </tr>\n",
       "    <tr>\n",
       "      <th>97</th>\n",
       "      <td>82</td>\n",
       "      <td>Activités de service de bureau, de soutien adm...</td>\n",
       "      <td>15.0</td>\n",
       "      <td>Unknown</td>\n",
       "      <td>4298</td>\n",
       "      <td>15.0</td>\n",
       "      <td>Société privée à responsabilité limitée</td>\n",
       "    </tr>\n",
       "    <tr>\n",
       "      <th>98</th>\n",
       "      <td>82</td>\n",
       "      <td>Activités de service de bureau, de soutien adm...</td>\n",
       "      <td>14.0</td>\n",
       "      <td>Unknown</td>\n",
       "      <td>4159</td>\n",
       "      <td>14.0</td>\n",
       "      <td>Société anonyme</td>\n",
       "    </tr>\n",
       "    <tr>\n",
       "      <th>103</th>\n",
       "      <td>85</td>\n",
       "      <td>Enseignement</td>\n",
       "      <td>612.0</td>\n",
       "      <td>Unknown</td>\n",
       "      <td>3972</td>\n",
       "      <td>612.0</td>\n",
       "      <td>Société en commandite</td>\n",
       "    </tr>\n",
       "    <tr>\n",
       "      <th>116</th>\n",
       "      <td>46</td>\n",
       "      <td>Commerce de gros</td>\n",
       "      <td>612.0</td>\n",
       "      <td>Unknown</td>\n",
       "      <td>3338</td>\n",
       "      <td>612.0</td>\n",
       "      <td>Société en commandite</td>\n",
       "    </tr>\n",
       "    <tr>\n",
       "      <th>118</th>\n",
       "      <td>86</td>\n",
       "      <td>Activités pour la santé humaine</td>\n",
       "      <td>612.0</td>\n",
       "      <td>Unknown</td>\n",
       "      <td>3234</td>\n",
       "      <td>612.0</td>\n",
       "      <td>Société en commandite</td>\n",
       "    </tr>\n",
       "    <tr>\n",
       "      <th>138</th>\n",
       "      <td>68</td>\n",
       "      <td>Activités immobilières</td>\n",
       "      <td>612.0</td>\n",
       "      <td>Unknown</td>\n",
       "      <td>2376</td>\n",
       "      <td>612.0</td>\n",
       "      <td>Société en commandite</td>\n",
       "    </tr>\n",
       "    <tr>\n",
       "      <th>149</th>\n",
       "      <td>96</td>\n",
       "      <td>Activités de services aux personnes</td>\n",
       "      <td>612.0</td>\n",
       "      <td>Unknown</td>\n",
       "      <td>2127</td>\n",
       "      <td>612.0</td>\n",
       "      <td>Société en commandite</td>\n",
       "    </tr>\n",
       "    <tr>\n",
       "      <th>159</th>\n",
       "      <td>56</td>\n",
       "      <td>Activités de service de restauration</td>\n",
       "      <td>14.0</td>\n",
       "      <td>Unknown</td>\n",
       "      <td>1851</td>\n",
       "      <td>14.0</td>\n",
       "      <td>Société anonyme</td>\n",
       "    </tr>\n",
       "    <tr>\n",
       "      <th>160</th>\n",
       "      <td>96</td>\n",
       "      <td>Activités de services aux personnes</td>\n",
       "      <td>15.0</td>\n",
       "      <td>Unknown</td>\n",
       "      <td>1838</td>\n",
       "      <td>15.0</td>\n",
       "      <td>Société privée à responsabilité limitée</td>\n",
       "    </tr>\n",
       "    <tr>\n",
       "      <th>177</th>\n",
       "      <td>86</td>\n",
       "      <td>Activités pour la santé humaine</td>\n",
       "      <td>15.0</td>\n",
       "      <td>Unknown</td>\n",
       "      <td>1592</td>\n",
       "      <td>15.0</td>\n",
       "      <td>Société privée à responsabilité limitée</td>\n",
       "    </tr>\n",
       "    <tr>\n",
       "      <th>188</th>\n",
       "      <td>56</td>\n",
       "      <td>Activités de service de restauration</td>\n",
       "      <td>612.0</td>\n",
       "      <td>Unknown</td>\n",
       "      <td>1418</td>\n",
       "      <td>612.0</td>\n",
       "      <td>Société en commandite</td>\n",
       "    </tr>\n",
       "    <tr>\n",
       "      <th>201</th>\n",
       "      <td>85</td>\n",
       "      <td>Enseignement</td>\n",
       "      <td>15.0</td>\n",
       "      <td>Unknown</td>\n",
       "      <td>1262</td>\n",
       "      <td>15.0</td>\n",
       "      <td>Société privée à responsabilité limitée</td>\n",
       "    </tr>\n",
       "    <tr>\n",
       "      <th>295</th>\n",
       "      <td>96</td>\n",
       "      <td>Activités de services aux personnes</td>\n",
       "      <td>14.0</td>\n",
       "      <td>Unknown</td>\n",
       "      <td>603</td>\n",
       "      <td>14.0</td>\n",
       "      <td>Société anonyme</td>\n",
       "    </tr>\n",
       "    <tr>\n",
       "      <th>321</th>\n",
       "      <td>85</td>\n",
       "      <td>Enseignement</td>\n",
       "      <td>14.0</td>\n",
       "      <td>Unknown</td>\n",
       "      <td>521</td>\n",
       "      <td>14.0</td>\n",
       "      <td>Société anonyme</td>\n",
       "    </tr>\n",
       "    <tr>\n",
       "      <th>408</th>\n",
       "      <td>86</td>\n",
       "      <td>Activités pour la santé humaine</td>\n",
       "      <td>14.0</td>\n",
       "      <td>Unknown</td>\n",
       "      <td>261</td>\n",
       "      <td>14.0</td>\n",
       "      <td>Société anonyme</td>\n",
       "    </tr>\n",
       "  </tbody>\n",
       "</table>\n",
       "</div>"
      ],
      "text/plain": [
       "     NaceCodeGroup                                 NaceDescription_FR  \\\n",
       "0               47                                 Commerce de détail   \n",
       "1               70  Activités des sièges sociaux et conseil de ges...   \n",
       "2               43                Travaux de construction spécialisés   \n",
       "3               47                                 Commerce de détail   \n",
       "4               96                Activités de services aux personnes   \n",
       "5               43                Travaux de construction spécialisés   \n",
       "6               82  Activités de service de bureau, de soutien adm...   \n",
       "7               82  Activités de service de bureau, de soutien adm...   \n",
       "8               85                                       Enseignement   \n",
       "9               46                                   Commerce de gros   \n",
       "10              86                    Activités pour la santé humaine   \n",
       "11              68                             Activités immobilières   \n",
       "16              46                                   Commerce de gros   \n",
       "17              56               Activités de service de restauration   \n",
       "20              86                    Activités pour la santé humaine   \n",
       "21              56               Activités de service de restauration   \n",
       "28              70  Activités des sièges sociaux et conseil de ges...   \n",
       "34              85                                       Enseignement   \n",
       "41              68                             Activités immobilières   \n",
       "43              46                                   Commerce de gros   \n",
       "44              96                Activités de services aux personnes   \n",
       "46              47                                 Commerce de détail   \n",
       "48              68                             Activités immobilières   \n",
       "49              47                                 Commerce de détail   \n",
       "50              70  Activités des sièges sociaux et conseil de ges...   \n",
       "53              82  Activités de service de bureau, de soutien adm...   \n",
       "54              43                Travaux de construction spécialisés   \n",
       "59              46                                   Commerce de gros   \n",
       "62              70  Activités des sièges sociaux et conseil de ges...   \n",
       "64              70  Activités des sièges sociaux et conseil de ges...   \n",
       "73              56               Activités de service de restauration   \n",
       "85              68                             Activités immobilières   \n",
       "86              47                                 Commerce de détail   \n",
       "89              43                Travaux de construction spécialisés   \n",
       "92              43                Travaux de construction spécialisés   \n",
       "97              82  Activités de service de bureau, de soutien adm...   \n",
       "98              82  Activités de service de bureau, de soutien adm...   \n",
       "103             85                                       Enseignement   \n",
       "116             46                                   Commerce de gros   \n",
       "118             86                    Activités pour la santé humaine   \n",
       "138             68                             Activités immobilières   \n",
       "149             96                Activités de services aux personnes   \n",
       "159             56               Activités de service de restauration   \n",
       "160             96                Activités de services aux personnes   \n",
       "177             86                    Activités pour la santé humaine   \n",
       "188             56               Activités de service de restauration   \n",
       "201             85                                       Enseignement   \n",
       "295             96                Activités de services aux personnes   \n",
       "321             85                                       Enseignement   \n",
       "408             86                    Activités pour la santé humaine   \n",
       "\n",
       "    JuridicalForm JuridicalForm_FR  EnterpriseCount     Code  \\\n",
       "0         Unknown          Unknown           114590  Unknown   \n",
       "1           610.0          Unknown            85628    610.0   \n",
       "2         Unknown          Unknown            85218  Unknown   \n",
       "3           610.0          Unknown            79464    610.0   \n",
       "4         Unknown          Unknown            77904  Unknown   \n",
       "5           610.0          Unknown            73103    610.0   \n",
       "6         Unknown          Unknown            64024  Unknown   \n",
       "7           610.0          Unknown            57314    610.0   \n",
       "8         Unknown          Unknown            55839  Unknown   \n",
       "9           610.0          Unknown            53422    610.0   \n",
       "10        Unknown          Unknown            49156  Unknown   \n",
       "11          610.0          Unknown            46952    610.0   \n",
       "16        Unknown          Unknown            33670  Unknown   \n",
       "17          610.0          Unknown            32997    610.0   \n",
       "20          610.0          Unknown            25898    610.0   \n",
       "21        Unknown          Unknown            25866  Unknown   \n",
       "28        Unknown          Unknown            22244  Unknown   \n",
       "34          610.0          Unknown            17453    610.0   \n",
       "41           14.0          Unknown            13709     14.0   \n",
       "43           14.0          Unknown            13478     14.0   \n",
       "44          610.0          Unknown            13282    610.0   \n",
       "46           15.0          Unknown            13010     15.0   \n",
       "48        Unknown          Unknown            12820  Unknown   \n",
       "49           14.0          Unknown            11241     14.0   \n",
       "50          612.0          Unknown            10798    612.0   \n",
       "53          612.0          Unknown             9823    612.0   \n",
       "54           15.0          Unknown             9684     15.0   \n",
       "59           15.0          Unknown             8819     15.0   \n",
       "62           14.0          Unknown             8380     14.0   \n",
       "64           15.0          Unknown             7959     15.0   \n",
       "73           15.0          Unknown             6657     15.0   \n",
       "85           15.0          Unknown             5184     15.0   \n",
       "86          612.0          Unknown             5111    612.0   \n",
       "89           14.0          Unknown             4978     14.0   \n",
       "92          612.0          Unknown             4526    612.0   \n",
       "97           15.0          Unknown             4298     15.0   \n",
       "98           14.0          Unknown             4159     14.0   \n",
       "103         612.0          Unknown             3972    612.0   \n",
       "116         612.0          Unknown             3338    612.0   \n",
       "118         612.0          Unknown             3234    612.0   \n",
       "138         612.0          Unknown             2376    612.0   \n",
       "149         612.0          Unknown             2127    612.0   \n",
       "159          14.0          Unknown             1851     14.0   \n",
       "160          15.0          Unknown             1838     15.0   \n",
       "177          15.0          Unknown             1592     15.0   \n",
       "188         612.0          Unknown             1418    612.0   \n",
       "201          15.0          Unknown             1262     15.0   \n",
       "295          14.0          Unknown              603     14.0   \n",
       "321          14.0          Unknown              521     14.0   \n",
       "408          14.0          Unknown              261     14.0   \n",
       "\n",
       "                                 Description  \n",
       "0                                    Unknown  \n",
       "1           Société à responsabilité limitée  \n",
       "2                                    Unknown  \n",
       "3           Société à responsabilité limitée  \n",
       "4                                    Unknown  \n",
       "5           Société à responsabilité limitée  \n",
       "6                                    Unknown  \n",
       "7           Société à responsabilité limitée  \n",
       "8                                    Unknown  \n",
       "9           Société à responsabilité limitée  \n",
       "10                                   Unknown  \n",
       "11          Société à responsabilité limitée  \n",
       "16                                   Unknown  \n",
       "17          Société à responsabilité limitée  \n",
       "20          Société à responsabilité limitée  \n",
       "21                                   Unknown  \n",
       "28                                   Unknown  \n",
       "34          Société à responsabilité limitée  \n",
       "41                           Société anonyme  \n",
       "43                           Société anonyme  \n",
       "44          Société à responsabilité limitée  \n",
       "46   Société privée à responsabilité limitée  \n",
       "48                                   Unknown  \n",
       "49                           Société anonyme  \n",
       "50                     Société en commandite  \n",
       "53                     Société en commandite  \n",
       "54   Société privée à responsabilité limitée  \n",
       "59   Société privée à responsabilité limitée  \n",
       "62                           Société anonyme  \n",
       "64   Société privée à responsabilité limitée  \n",
       "73   Société privée à responsabilité limitée  \n",
       "85   Société privée à responsabilité limitée  \n",
       "86                     Société en commandite  \n",
       "89                           Société anonyme  \n",
       "92                     Société en commandite  \n",
       "97   Société privée à responsabilité limitée  \n",
       "98                           Société anonyme  \n",
       "103                    Société en commandite  \n",
       "116                    Société en commandite  \n",
       "118                    Société en commandite  \n",
       "138                    Société en commandite  \n",
       "149                    Société en commandite  \n",
       "159                          Société anonyme  \n",
       "160  Société privée à responsabilité limitée  \n",
       "177  Société privée à responsabilité limitée  \n",
       "188                    Société en commandite  \n",
       "201  Société privée à responsabilité limitée  \n",
       "295                          Société anonyme  \n",
       "321                          Société anonyme  \n",
       "408                          Société anonyme  "
      ]
     },
     "execution_count": 100,
     "metadata": {},
     "output_type": "execute_result"
    }
   ],
   "source": [
    "filtered_juridique"
   ]
  },
  {
   "cell_type": "code",
   "execution_count": 101,
   "id": "5b2b83e5",
   "metadata": {},
   "outputs": [
    {
     "data": {
      "image/png": "[encoded data removed]",
      "text/plain": [
       "<Figure size 1600x800 with 1 Axes>"
      ]
     },
     "metadata": {},
     "output_type": "display_data"
    }
   ],
   "source": [
    "palette = ['tab:blue', 'tab:green', 'tab:orange', 'tab:red', 'tab:purple']\n",
    "\n",
    "plt.figure(figsize=(16, 8))\n",
    "\n",
    "sns.barplot(\n",
    "    data=filtered_juridique,\n",
    "    y='NaceDescription_FR',\n",
    "    x='EnterpriseCount',\n",
    "    hue='Description',\n",
    "    palette = palette\n",
    ")\n",
    "\n",
    "plt.title('Enterprise by Sector and Juridical Form (Top 10 Sectors)')\n",
    "plt.xticks(rotation=60, ha='right')\n",
    "plt.ylabel(\"Number of Enterprises\")\n",
    "plt.xlabel(\"Sector (NACE)\")\n",
    "plt.legend(title=\"Juridical Form\", bbox_to_anchor=(1.05, 1), loc='upper left')\n",
    "plt.tight_layout()\n",
    "plt.show()\n"
   ]
  },
  {
   "cell_type": "markdown",
   "id": "dcb9284e",
   "metadata": {},
   "source": [
    "### Distribution by years"
   ]
  },
  {
   "cell_type": "code",
   "execution_count": 56,
   "id": "8cfedf60",
   "metadata": {},
   "outputs": [
    {
     "data": {
      "application/vnd.microsoft.datawrangler.viewer.v0+json": {
       "columns": [
        {
         "name": "index",
         "rawType": "int64",
         "type": "integer"
        },
        {
         "name": "Code",
         "rawType": "int64",
         "type": "integer"
        },
        {
         "name": "Description",
         "rawType": "object",
         "type": "string"
        }
       ],
       "ref": "7ae48af8-b584-4b92-857d-e9b889205b01",
       "rows": [
        [
         "0",
         "1",
         "Culture et production animale, chasse et services annexes"
        ],
        [
         "1",
         "2",
         "Sylviculture et exploitation forestière"
        ],
        [
         "2",
         "3",
         "Pêche et aquaculture"
        ],
        [
         "3",
         "5",
         "Extraction de houille et de lignite"
        ],
        [
         "4",
         "6",
         "Extraction d’hydrocarbures"
        ],
        [
         "5",
         "7",
         "Extraction de minerais métalliques"
        ],
        [
         "6",
         "8",
         "Autres industries extractives"
        ],
        [
         "7",
         "9",
         "Activités de soutien aux industries extractives"
        ],
        [
         "8",
         "10",
         "Industries alimentaires"
        ],
        [
         "9",
         "11",
         "Fabrication de boissons"
        ],
        [
         "10",
         "12",
         "Fabrication de produits à base de tabac"
        ],
        [
         "11",
         "13",
         "Fabrication de textiles"
        ],
        [
         "12",
         "14",
         "Industrie de l’habillement"
        ],
        [
         "13",
         "15",
         "Fabrication de cuir, d’articles en cuir et de produits similaires dans d’autres matières"
        ],
        [
         "14",
         "16",
         "Travail du bois et fabrication d’articles en bois et en liège, à l’exception des meubles; fabrication d’articles en vannerie et sparterie"
        ],
        [
         "15",
         "17",
         "Industrie du papier et du carton"
        ],
        [
         "16",
         "18",
         "Imprimerie et reproduction d’enregistrements"
        ],
        [
         "17",
         "19",
         "Cokéfaction et raffinage"
        ],
        [
         "18",
         "20",
         "Industrie chimique"
        ],
        [
         "19",
         "21",
         "Industrie pharmaceutique"
        ],
        [
         "20",
         "22",
         "Fabrication de produits en caoutchouc et en plastique"
        ],
        [
         "21",
         "23",
         "Fabrication d’autres produits minéraux non métalliques"
        ],
        [
         "22",
         "24",
         "Métallurgie"
        ],
        [
         "23",
         "25",
         "Fabrication de produits métalliques, à l’exception des machines et des équipements"
        ],
        [
         "24",
         "26",
         "Fabrication de produits informatiques, électroniques et optiques"
        ],
        [
         "25",
         "27",
         "Fabrication d’équipements électriques"
        ],
        [
         "26",
         "28",
         "Fabrication de machines et équipements nca"
        ],
        [
         "27",
         "29",
         "Industrie automobile"
        ],
        [
         "28",
         "30",
         "Fabrication d’autres matériels de transport"
        ],
        [
         "29",
         "31",
         "Fabrication de meubles"
        ],
        [
         "30",
         "32",
         "Autres industries manufacturières"
        ],
        [
         "31",
         "33",
         "Réparation, entretien et installation de machines et d’équipements"
        ],
        [
         "32",
         "35",
         "Production et distribution d’électricité, de gaz, de vapeur et d’air conditionné"
        ],
        [
         "33",
         "36",
         "Captage, traitement et distribution d’eau"
        ],
        [
         "34",
         "37",
         "Collecte et traitement des eaux usées"
        ],
        [
         "35",
         "38",
         "Collecte, valorisation et élimination des déchets;"
        ],
        [
         "36",
         "39",
         "Activités de dépollution et autres activités de service de gestion des déchets"
        ],
        [
         "37",
         "41",
         "Construction de bâtiments résidentiels et non résidentiels"
        ],
        [
         "38",
         "42",
         "Génie civil"
        ],
        [
         "39",
         "43",
         "Travaux de construction spécialisés"
        ],
        [
         "40",
         "46",
         "Commerce de gros"
        ],
        [
         "41",
         "47",
         "Commerce de détail"
        ],
        [
         "42",
         "49",
         "Transports terrestres et transports par conduites"
        ],
        [
         "43",
         "50",
         "Transport par eau"
        ],
        [
         "44",
         "51",
         "Transports aériens"
        ],
        [
         "45",
         "52",
         "Entreposage et services auxiliaires des transports"
        ],
        [
         "46",
         "53",
         "Activités de poste et de courrier"
        ],
        [
         "47",
         "55",
         "Hébergement"
        ],
        [
         "48",
         "56",
         "Activités de service de restauration"
        ],
        [
         "49",
         "58",
         "Activités d’édition"
        ]
       ],
       "shape": {
        "columns": 2,
        "rows": 87
       }
      },
      "text/html": [
       "<div>\n",
       "<style scoped>\n",
       "    .dataframe tbody tr th:only-of-type {\n",
       "        vertical-align: middle;\n",
       "    }\n",
       "\n",
       "    .dataframe tbody tr th {\n",
       "        vertical-align: top;\n",
       "    }\n",
       "\n",
       "    .dataframe thead th {\n",
       "        text-align: right;\n",
       "    }\n",
       "</style>\n",
       "<table border=\"1\" class=\"dataframe\">\n",
       "  <thead>\n",
       "    <tr style=\"text-align: right;\">\n",
       "      <th></th>\n",
       "      <th>Code</th>\n",
       "      <th>Description</th>\n",
       "    </tr>\n",
       "  </thead>\n",
       "  <tbody>\n",
       "    <tr>\n",
       "      <th>0</th>\n",
       "      <td>1</td>\n",
       "      <td>Culture et production animale, chasse et servi...</td>\n",
       "    </tr>\n",
       "    <tr>\n",
       "      <th>1</th>\n",
       "      <td>2</td>\n",
       "      <td>Sylviculture et exploitation forestière</td>\n",
       "    </tr>\n",
       "    <tr>\n",
       "      <th>2</th>\n",
       "      <td>3</td>\n",
       "      <td>Pêche et aquaculture</td>\n",
       "    </tr>\n",
       "    <tr>\n",
       "      <th>3</th>\n",
       "      <td>5</td>\n",
       "      <td>Extraction de houille et de lignite</td>\n",
       "    </tr>\n",
       "    <tr>\n",
       "      <th>4</th>\n",
       "      <td>6</td>\n",
       "      <td>Extraction d’hydrocarbures</td>\n",
       "    </tr>\n",
       "    <tr>\n",
       "      <th>...</th>\n",
       "      <td>...</td>\n",
       "      <td>...</td>\n",
       "    </tr>\n",
       "    <tr>\n",
       "      <th>82</th>\n",
       "      <td>95</td>\n",
       "      <td>Réparation et entretien d’ordinateurs, de bien...</td>\n",
       "    </tr>\n",
       "    <tr>\n",
       "      <th>83</th>\n",
       "      <td>96</td>\n",
       "      <td>Activités de services aux personnes</td>\n",
       "    </tr>\n",
       "    <tr>\n",
       "      <th>84</th>\n",
       "      <td>97</td>\n",
       "      <td>Activités des ménages en tant qu’employeurs de...</td>\n",
       "    </tr>\n",
       "    <tr>\n",
       "      <th>85</th>\n",
       "      <td>98</td>\n",
       "      <td>Activités indifférenciées des ménages en tant ...</td>\n",
       "    </tr>\n",
       "    <tr>\n",
       "      <th>86</th>\n",
       "      <td>99</td>\n",
       "      <td>Activités des organisations et organismes extr...</td>\n",
       "    </tr>\n",
       "  </tbody>\n",
       "</table>\n",
       "<p>87 rows × 2 columns</p>\n",
       "</div>"
      ],
      "text/plain": [
       "    Code                                        Description\n",
       "0      1  Culture et production animale, chasse et servi...\n",
       "1      2            Sylviculture et exploitation forestière\n",
       "2      3                               Pêche et aquaculture\n",
       "3      5                Extraction de houille et de lignite\n",
       "4      6                         Extraction d’hydrocarbures\n",
       "..   ...                                                ...\n",
       "82    95  Réparation et entretien d’ordinateurs, de bien...\n",
       "83    96                Activités de services aux personnes\n",
       "84    97  Activités des ménages en tant qu’employeurs de...\n",
       "85    98  Activités indifférenciées des ménages en tant ...\n",
       "86    99  Activités des organisations et organismes extr...\n",
       "\n",
       "[87 rows x 2 columns]"
      ]
     },
     "execution_count": 56,
     "metadata": {},
     "output_type": "execute_result"
    }
   ],
   "source": [
    "nace_codes = pd.read_csv('data/NACCodes-double-digits-sector.csv')\n",
    "nace_codes"
   ]
  },
  {
   "cell_type": "code",
   "execution_count": 55,
   "id": "37609721",
   "metadata": {},
   "outputs": [
    {
     "data": {
      "application/vnd.microsoft.datawrangler.viewer.v0+json": {
       "columns": [
        {
         "name": "index",
         "rawType": "int64",
         "type": "integer"
        },
        {
         "name": "NaceCodeGroup",
         "rawType": "int64",
         "type": "integer"
        },
        {
         "name": "CreationYear",
         "rawType": "object",
         "type": "string"
        },
        {
         "name": "EntityCount",
         "rawType": "int64",
         "type": "integer"
        }
       ],
       "ref": "ccccfd22-b1e0-485d-ba82-1967c11e9cfb",
       "rows": [
        [
         "0",
         "47",
         "After 2010",
         "163231"
        ],
        [
         "1",
         "43",
         "After 2010",
         "136545"
        ],
        [
         "2",
         "82",
         "After 2010",
         "129734"
        ],
        [
         "3",
         "70",
         "After 2010",
         "111666"
        ],
        [
         "4",
         "85",
         "After 2010",
         "77930"
        ],
        [
         "5",
         "96",
         "After 2010",
         "77087"
        ],
        [
         "6",
         "46",
         "After 2010",
         "75639"
        ],
        [
         "7",
         "74",
         "After 2010",
         "64070"
        ],
        [
         "8",
         "73",
         "After 2010",
         "60044"
        ],
        [
         "9",
         "81",
         "After 2010",
         "59075"
        ],
        [
         "10",
         "62",
         "After 2010",
         "57996"
        ],
        [
         "11",
         "86",
         "After 2010",
         "56406"
        ],
        [
         "12",
         "56",
         "After 2010",
         "55848"
        ],
        [
         "13",
         "47",
         "1990-2009",
         "55625"
        ],
        [
         "14",
         "68",
         "After 2010",
         "55258"
        ],
        [
         "15",
         "90",
         "After 2010",
         "44631"
        ],
        [
         "16",
         "71",
         "After 2010",
         "42010"
        ],
        [
         "17",
         "43",
         "1990-2009",
         "40842"
        ],
        [
         "18",
         "46",
         "1990-2009",
         "36720"
        ],
        [
         "19",
         "93",
         "After 2010",
         "36530"
        ],
        [
         "20",
         "41",
         "After 2010",
         "34410"
        ],
        [
         "21",
         "64",
         "After 2010",
         "34320"
        ],
        [
         "22",
         "63",
         "After 2010",
         "33502"
        ],
        [
         "23",
         "95",
         "After 2010",
         "32928"
        ],
        [
         "24",
         "70",
         "1990-2009",
         "29358"
        ],
        [
         "25",
         "69",
         "After 2010",
         "29169"
        ],
        [
         "26",
         "68",
         "1990-2009",
         "24900"
        ],
        [
         "27",
         "86",
         "1990-2009",
         "22447"
        ],
        [
         "28",
         "49",
         "After 2010",
         "22376"
        ],
        [
         "29",
         "77",
         "After 2010",
         "21222"
        ],
        [
         "30",
         "47",
         "1960-1989",
         "19782"
        ],
        [
         "31",
         "82",
         "1990-2009",
         "17941"
        ],
        [
         "32",
         "33",
         "After 2010",
         "17467"
        ],
        [
         "33",
         "56",
         "1990-2009",
         "17270"
        ],
        [
         "34",
         "16",
         "After 2010",
         "17100"
        ],
        [
         "35",
         "96",
         "1990-2009",
         "16969"
        ],
        [
         "36",
         "71",
         "1990-2009",
         "14298"
        ],
        [
         "37",
         "81",
         "1990-2009",
         "13860"
        ],
        [
         "38",
         "62",
         "1990-2009",
         "13789"
        ],
        [
         "39",
         "14",
         "After 2010",
         "13536"
        ],
        [
         "40",
         "59",
         "After 2010",
         "13161"
        ],
        [
         "41",
         "46",
         "1960-1989",
         "12916"
        ],
        [
         "42",
         "69",
         "1990-2009",
         "12884"
        ],
        [
         "43",
         "73",
         "1990-2009",
         "12761"
        ],
        [
         "44",
         "25",
         "After 2010",
         "12518"
        ],
        [
         "45",
         "42",
         "After 2010",
         "12130"
        ],
        [
         "46",
         "95",
         "1990-2009",
         "11485"
        ],
        [
         "47",
         "64",
         "1990-2009",
         "10353"
        ],
        [
         "48",
         "52",
         "After 2010",
         "10228"
        ],
        [
         "49",
         "66",
         "After 2010",
         "9957"
        ]
       ],
       "shape": {
        "columns": 3,
        "rows": 458
       }
      },
      "text/html": [
       "<div>\n",
       "<style scoped>\n",
       "    .dataframe tbody tr th:only-of-type {\n",
       "        vertical-align: middle;\n",
       "    }\n",
       "\n",
       "    .dataframe tbody tr th {\n",
       "        vertical-align: top;\n",
       "    }\n",
       "\n",
       "    .dataframe thead th {\n",
       "        text-align: right;\n",
       "    }\n",
       "</style>\n",
       "<table border=\"1\" class=\"dataframe\">\n",
       "  <thead>\n",
       "    <tr style=\"text-align: right;\">\n",
       "      <th></th>\n",
       "      <th>NaceCodeGroup</th>\n",
       "      <th>CreationYear</th>\n",
       "      <th>EntityCount</th>\n",
       "    </tr>\n",
       "  </thead>\n",
       "  <tbody>\n",
       "    <tr>\n",
       "      <th>0</th>\n",
       "      <td>47</td>\n",
       "      <td>After 2010</td>\n",
       "      <td>163231</td>\n",
       "    </tr>\n",
       "    <tr>\n",
       "      <th>1</th>\n",
       "      <td>43</td>\n",
       "      <td>After 2010</td>\n",
       "      <td>136545</td>\n",
       "    </tr>\n",
       "    <tr>\n",
       "      <th>2</th>\n",
       "      <td>82</td>\n",
       "      <td>After 2010</td>\n",
       "      <td>129734</td>\n",
       "    </tr>\n",
       "    <tr>\n",
       "      <th>3</th>\n",
       "      <td>70</td>\n",
       "      <td>After 2010</td>\n",
       "      <td>111666</td>\n",
       "    </tr>\n",
       "    <tr>\n",
       "      <th>4</th>\n",
       "      <td>85</td>\n",
       "      <td>After 2010</td>\n",
       "      <td>77930</td>\n",
       "    </tr>\n",
       "    <tr>\n",
       "      <th>...</th>\n",
       "      <td>...</td>\n",
       "      <td>...</td>\n",
       "      <td>...</td>\n",
       "    </tr>\n",
       "    <tr>\n",
       "      <th>453</th>\n",
       "      <td>80</td>\n",
       "      <td>Before 1920</td>\n",
       "      <td>1</td>\n",
       "    </tr>\n",
       "    <tr>\n",
       "      <th>454</th>\n",
       "      <td>89</td>\n",
       "      <td>1920-1939</td>\n",
       "      <td>1</td>\n",
       "    </tr>\n",
       "    <tr>\n",
       "      <th>455</th>\n",
       "      <td>89</td>\n",
       "      <td>Before 1920</td>\n",
       "      <td>1</td>\n",
       "    </tr>\n",
       "    <tr>\n",
       "      <th>456</th>\n",
       "      <td>91</td>\n",
       "      <td>Before 1920</td>\n",
       "      <td>1</td>\n",
       "    </tr>\n",
       "    <tr>\n",
       "      <th>457</th>\n",
       "      <td>99</td>\n",
       "      <td>1920-1939</td>\n",
       "      <td>1</td>\n",
       "    </tr>\n",
       "  </tbody>\n",
       "</table>\n",
       "<p>458 rows × 3 columns</p>\n",
       "</div>"
      ],
      "text/plain": [
       "     NaceCodeGroup CreationYear  EntityCount\n",
       "0               47   After 2010       163231\n",
       "1               43   After 2010       136545\n",
       "2               82   After 2010       129734\n",
       "3               70   After 2010       111666\n",
       "4               85   After 2010        77930\n",
       "..             ...          ...          ...\n",
       "453             80  Before 1920            1\n",
       "454             89    1920-1939            1\n",
       "455             89  Before 1920            1\n",
       "456             91  Before 1920            1\n",
       "457             99    1920-1939            1\n",
       "\n",
       "[458 rows x 3 columns]"
      ]
     },
     "execution_count": 55,
     "metadata": {},
     "output_type": "execute_result"
    }
   ],
   "source": [
    "years = pd.read_csv('data/enterprises-by-year-range-by-sector.csv')\n",
    "years"
   ]
  },
  {
   "cell_type": "code",
   "execution_count": 57,
   "id": "a1f29267",
   "metadata": {},
   "outputs": [],
   "source": [
    "years_labeled = years.merge(\n",
    "    nace_codes,\n",
    "    left_on='NaceCodeGroup',\n",
    "    right_on='Code',\n",
    "    how='left'  # keeps all rows from df_counts\n",
    ")"
   ]
  },
  {
   "cell_type": "code",
   "execution_count": 58,
   "id": "537626de",
   "metadata": {},
   "outputs": [
    {
     "data": {
      "application/vnd.microsoft.datawrangler.viewer.v0+json": {
       "columns": [
        {
         "name": "index",
         "rawType": "int64",
         "type": "integer"
        },
        {
         "name": "NaceCodeGroup",
         "rawType": "int64",
         "type": "integer"
        },
        {
         "name": "CreationYear",
         "rawType": "object",
         "type": "string"
        },
        {
         "name": "EntityCount",
         "rawType": "int64",
         "type": "integer"
        },
        {
         "name": "Code",
         "rawType": "float64",
         "type": "float"
        },
        {
         "name": "Description",
         "rawType": "object",
         "type": "unknown"
        }
       ],
       "ref": "28394242-0166-4a7c-ad46-b0c5dd54bd1d",
       "rows": [
        [
         "0",
         "47",
         "After 2010",
         "163231",
         "47.0",
         "Commerce de détail"
        ],
        [
         "1",
         "43",
         "After 2010",
         "136545",
         "43.0",
         "Travaux de construction spécialisés"
        ],
        [
         "2",
         "82",
         "After 2010",
         "129734",
         "82.0",
         "Activités de service de bureau, de soutien administratif et d’autre soutien aux entreprises"
        ],
        [
         "3",
         "70",
         "After 2010",
         "111666",
         "70.0",
         "Activités des sièges sociaux et conseil de gestion"
        ],
        [
         "4",
         "85",
         "After 2010",
         "77930",
         "85.0",
         "Enseignement"
        ],
        [
         "5",
         "96",
         "After 2010",
         "77087",
         "96.0",
         "Activités de services aux personnes"
        ],
        [
         "6",
         "46",
         "After 2010",
         "75639",
         "46.0",
         "Commerce de gros"
        ],
        [
         "7",
         "74",
         "After 2010",
         "64070",
         "74.0",
         "Autres activités spécialisées, scientifiques et techniques"
        ],
        [
         "8",
         "73",
         "After 2010",
         "60044",
         "73.0",
         "Activités de publicité, d’études de marché et de relations publiques"
        ],
        [
         "9",
         "81",
         "After 2010",
         "59075",
         "81.0",
         "Activités de services pour les bâtiments et l’aménagement paysager"
        ],
        [
         "10",
         "62",
         "After 2010",
         "57996",
         "62.0",
         "Programmation, conseil et autres activités informatiques"
        ],
        [
         "11",
         "86",
         "After 2010",
         "56406",
         "86.0",
         "Activités pour la santé humaine"
        ],
        [
         "12",
         "56",
         "After 2010",
         "55848",
         "56.0",
         "Activités de service de restauration"
        ],
        [
         "13",
         "47",
         "1990-2009",
         "55625",
         "47.0",
         "Commerce de détail"
        ],
        [
         "14",
         "68",
         "After 2010",
         "55258",
         "68.0",
         "Activités immobilières"
        ],
        [
         "15",
         "90",
         "After 2010",
         "44631",
         "90.0",
         "Activités de création artistique et de spectacle"
        ],
        [
         "16",
         "71",
         "After 2010",
         "42010",
         "71.0",
         "Activités d’architecture et d’ingénierie; activités de contrôle et analyses techniques"
        ],
        [
         "17",
         "43",
         "1990-2009",
         "40842",
         "43.0",
         "Travaux de construction spécialisés"
        ],
        [
         "18",
         "46",
         "1990-2009",
         "36720",
         "46.0",
         "Commerce de gros"
        ],
        [
         "19",
         "93",
         "After 2010",
         "36530",
         "93.0",
         "Activités sportives et activités récréatives et de loisirs"
        ],
        [
         "20",
         "41",
         "After 2010",
         "34410",
         "41.0",
         "Construction de bâtiments résidentiels et non résidentiels"
        ],
        [
         "21",
         "64",
         "After 2010",
         "34320",
         "64.0",
         "Activités de services financiers, hors assurance et fonds de pension"
        ],
        [
         "22",
         "63",
         "After 2010",
         "33502",
         "63.0",
         "Infrastructure informatique, traitement de données et autres activités de service d'information"
        ],
        [
         "23",
         "95",
         "After 2010",
         "32928",
         "95.0",
         "Réparation et entretien d’ordinateurs, de biens personnels et domestiques et d’automobiles et motocycles"
        ],
        [
         "24",
         "70",
         "1990-2009",
         "29358",
         "70.0",
         "Activités des sièges sociaux et conseil de gestion"
        ],
        [
         "25",
         "69",
         "After 2010",
         "29169",
         "69.0",
         "Activités juridiques et comptables"
        ],
        [
         "26",
         "68",
         "1990-2009",
         "24900",
         "68.0",
         "Activités immobilières"
        ],
        [
         "27",
         "86",
         "1990-2009",
         "22447",
         "86.0",
         "Activités pour la santé humaine"
        ],
        [
         "28",
         "49",
         "After 2010",
         "22376",
         "49.0",
         "Transports terrestres et transports par conduites"
        ],
        [
         "29",
         "77",
         "After 2010",
         "21222",
         "77.0",
         "Activités de location et location-bail"
        ],
        [
         "30",
         "47",
         "1960-1989",
         "19782",
         "47.0",
         "Commerce de détail"
        ],
        [
         "31",
         "82",
         "1990-2009",
         "17941",
         "82.0",
         "Activités de service de bureau, de soutien administratif et d’autre soutien aux entreprises"
        ],
        [
         "32",
         "33",
         "After 2010",
         "17467",
         "33.0",
         "Réparation, entretien et installation de machines et d’équipements"
        ],
        [
         "33",
         "56",
         "1990-2009",
         "17270",
         "56.0",
         "Activités de service de restauration"
        ],
        [
         "34",
         "16",
         "After 2010",
         "17100",
         "16.0",
         "Travail du bois et fabrication d’articles en bois et en liège, à l’exception des meubles; fabrication d’articles en vannerie et sparterie"
        ],
        [
         "35",
         "96",
         "1990-2009",
         "16969",
         "96.0",
         "Activités de services aux personnes"
        ],
        [
         "36",
         "71",
         "1990-2009",
         "14298",
         "71.0",
         "Activités d’architecture et d’ingénierie; activités de contrôle et analyses techniques"
        ],
        [
         "37",
         "81",
         "1990-2009",
         "13860",
         "81.0",
         "Activités de services pour les bâtiments et l’aménagement paysager"
        ],
        [
         "38",
         "62",
         "1990-2009",
         "13789",
         "62.0",
         "Programmation, conseil et autres activités informatiques"
        ],
        [
         "39",
         "14",
         "After 2010",
         "13536",
         "14.0",
         "Industrie de l’habillement"
        ],
        [
         "40",
         "59",
         "After 2010",
         "13161",
         "59.0",
         "Production de films cinématographiques, de vidéos et de programmes de télévision; enregistrement sonore et édition musicale"
        ],
        [
         "41",
         "46",
         "1960-1989",
         "12916",
         "46.0",
         "Commerce de gros"
        ],
        [
         "42",
         "69",
         "1990-2009",
         "12884",
         "69.0",
         "Activités juridiques et comptables"
        ],
        [
         "43",
         "73",
         "1990-2009",
         "12761",
         "73.0",
         "Activités de publicité, d’études de marché et de relations publiques"
        ],
        [
         "44",
         "25",
         "After 2010",
         "12518",
         "25.0",
         "Fabrication de produits métalliques, à l’exception des machines et des équipements"
        ],
        [
         "45",
         "42",
         "After 2010",
         "12130",
         "42.0",
         "Génie civil"
        ],
        [
         "46",
         "95",
         "1990-2009",
         "11485",
         "95.0",
         "Réparation et entretien d’ordinateurs, de biens personnels et domestiques et d’automobiles et motocycles"
        ],
        [
         "47",
         "64",
         "1990-2009",
         "10353",
         "64.0",
         "Activités de services financiers, hors assurance et fonds de pension"
        ],
        [
         "48",
         "52",
         "After 2010",
         "10228",
         "52.0",
         "Entreposage et services auxiliaires des transports"
        ],
        [
         "49",
         "66",
         "After 2010",
         "9957",
         "66.0",
         "Activités auxiliaires d’activités de services financiers et d’assurance"
        ]
       ],
       "shape": {
        "columns": 5,
        "rows": 458
       }
      },
      "text/html": [
       "<div>\n",
       "<style scoped>\n",
       "    .dataframe tbody tr th:only-of-type {\n",
       "        vertical-align: middle;\n",
       "    }\n",
       "\n",
       "    .dataframe tbody tr th {\n",
       "        vertical-align: top;\n",
       "    }\n",
       "\n",
       "    .dataframe thead th {\n",
       "        text-align: right;\n",
       "    }\n",
       "</style>\n",
       "<table border=\"1\" class=\"dataframe\">\n",
       "  <thead>\n",
       "    <tr style=\"text-align: right;\">\n",
       "      <th></th>\n",
       "      <th>NaceCodeGroup</th>\n",
       "      <th>CreationYear</th>\n",
       "      <th>EntityCount</th>\n",
       "      <th>Code</th>\n",
       "      <th>Description</th>\n",
       "    </tr>\n",
       "  </thead>\n",
       "  <tbody>\n",
       "    <tr>\n",
       "      <th>0</th>\n",
       "      <td>47</td>\n",
       "      <td>After 2010</td>\n",
       "      <td>163231</td>\n",
       "      <td>47.0</td>\n",
       "      <td>Commerce de détail</td>\n",
       "    </tr>\n",
       "    <tr>\n",
       "      <th>1</th>\n",
       "      <td>43</td>\n",
       "      <td>After 2010</td>\n",
       "      <td>136545</td>\n",
       "      <td>43.0</td>\n",
       "      <td>Travaux de construction spécialisés</td>\n",
       "    </tr>\n",
       "    <tr>\n",
       "      <th>2</th>\n",
       "      <td>82</td>\n",
       "      <td>After 2010</td>\n",
       "      <td>129734</td>\n",
       "      <td>82.0</td>\n",
       "      <td>Activités de service de bureau, de soutien adm...</td>\n",
       "    </tr>\n",
       "    <tr>\n",
       "      <th>3</th>\n",
       "      <td>70</td>\n",
       "      <td>After 2010</td>\n",
       "      <td>111666</td>\n",
       "      <td>70.0</td>\n",
       "      <td>Activités des sièges sociaux et conseil de ges...</td>\n",
       "    </tr>\n",
       "    <tr>\n",
       "      <th>4</th>\n",
       "      <td>85</td>\n",
       "      <td>After 2010</td>\n",
       "      <td>77930</td>\n",
       "      <td>85.0</td>\n",
       "      <td>Enseignement</td>\n",
       "    </tr>\n",
       "    <tr>\n",
       "      <th>...</th>\n",
       "      <td>...</td>\n",
       "      <td>...</td>\n",
       "      <td>...</td>\n",
       "      <td>...</td>\n",
       "      <td>...</td>\n",
       "    </tr>\n",
       "    <tr>\n",
       "      <th>453</th>\n",
       "      <td>80</td>\n",
       "      <td>Before 1920</td>\n",
       "      <td>1</td>\n",
       "      <td>80.0</td>\n",
       "      <td>Activités d’investigation et de sécurité</td>\n",
       "    </tr>\n",
       "    <tr>\n",
       "      <th>454</th>\n",
       "      <td>89</td>\n",
       "      <td>1920-1939</td>\n",
       "      <td>1</td>\n",
       "      <td>NaN</td>\n",
       "      <td>NaN</td>\n",
       "    </tr>\n",
       "    <tr>\n",
       "      <th>455</th>\n",
       "      <td>89</td>\n",
       "      <td>Before 1920</td>\n",
       "      <td>1</td>\n",
       "      <td>NaN</td>\n",
       "      <td>NaN</td>\n",
       "    </tr>\n",
       "    <tr>\n",
       "      <th>456</th>\n",
       "      <td>91</td>\n",
       "      <td>Before 1920</td>\n",
       "      <td>1</td>\n",
       "      <td>91.0</td>\n",
       "      <td>Bibliothèques, archives, musées et autres acti...</td>\n",
       "    </tr>\n",
       "    <tr>\n",
       "      <th>457</th>\n",
       "      <td>99</td>\n",
       "      <td>1920-1939</td>\n",
       "      <td>1</td>\n",
       "      <td>99.0</td>\n",
       "      <td>Activités des organisations et organismes extr...</td>\n",
       "    </tr>\n",
       "  </tbody>\n",
       "</table>\n",
       "<p>458 rows × 5 columns</p>\n",
       "</div>"
      ],
      "text/plain": [
       "     NaceCodeGroup CreationYear  EntityCount  Code  \\\n",
       "0               47   After 2010       163231  47.0   \n",
       "1               43   After 2010       136545  43.0   \n",
       "2               82   After 2010       129734  82.0   \n",
       "3               70   After 2010       111666  70.0   \n",
       "4               85   After 2010        77930  85.0   \n",
       "..             ...          ...          ...   ...   \n",
       "453             80  Before 1920            1  80.0   \n",
       "454             89    1920-1939            1   NaN   \n",
       "455             89  Before 1920            1   NaN   \n",
       "456             91  Before 1920            1  91.0   \n",
       "457             99    1920-1939            1  99.0   \n",
       "\n",
       "                                           Description  \n",
       "0                                   Commerce de détail  \n",
       "1                  Travaux de construction spécialisés  \n",
       "2    Activités de service de bureau, de soutien adm...  \n",
       "3    Activités des sièges sociaux et conseil de ges...  \n",
       "4                                         Enseignement  \n",
       "..                                                 ...  \n",
       "453           Activités d’investigation et de sécurité  \n",
       "454                                                NaN  \n",
       "455                                                NaN  \n",
       "456  Bibliothèques, archives, musées et autres acti...  \n",
       "457  Activités des organisations et organismes extr...  \n",
       "\n",
       "[458 rows x 5 columns]"
      ]
     },
     "execution_count": 58,
     "metadata": {},
     "output_type": "execute_result"
    }
   ],
   "source": [
    "years_labeled "
   ]
  },
  {
   "cell_type": "code",
   "execution_count": 66,
   "id": "a282c874",
   "metadata": {},
   "outputs": [
    {
     "name": "stdout",
     "output_type": "stream",
     "text": [
      "['After 2010' '1990-2009' '1960-1989' '1940-1959' '1920-1939'\n",
      " 'Before 1920']\n"
     ]
    }
   ],
   "source": [
    "print(years_labeled['CreationYear'].unique())"
   ]
  },
  {
   "cell_type": "code",
   "execution_count": null,
   "id": "a192f9ee",
   "metadata": {},
   "outputs": [],
   "source": [
    "creation_order = ['Before 1920', '1920-1939', '1940-1959', '1960-1989', '1990-2009', 'After 2010']\n",
    "\n",
    "first_three = creation_order[:3]\n",
    "last_three = creation_order[3:]\n",
    "\n",
    "top_sectors = years_labeled .groupby('NaceCodeGroup')['EntityCount'].sum().nlargest(10).index\n",
    "years_filtered = years_labeled[years_labeled ['NaceCodeGroup'].isin(top_sectors)]\n",
    "\n",
    "years_first = years_filtered[years_filtered['CreationYear'].isin(first_three)]\n",
    "years_last = years_filtered[years_filtered['CreationYear'].isin(last_three)]"
   ]
  },
  {
   "cell_type": "code",
   "execution_count": 78,
   "id": "f1b8d7b3",
   "metadata": {},
   "outputs": [
    {
     "data": {
      "image/png": "[encoded data removed]",
      "text/plain": [
       "<Figure size 1400x600 with 1 Axes>"
      ]
     },
     "metadata": {},
     "output_type": "display_data"
    }
   ],
   "source": [
    "\n",
    "# Plot 1\n",
    "plt.figure(figsize=(14, 6))\n",
    "sns.barplot(\n",
    "    data=years_first,\n",
    "    x='CreationYear',\n",
    "    y='EntityCount',\n",
    "    hue='Description',\n",
    "    order=first_three,\n",
    "    palette='tab10'\n",
    ")\n",
    "\n",
    "plt.title(\"Enterprise by Sector and Creation Period (1800 -1959)\")\n",
    "plt.xlabel(\"Creation Period\")\n",
    "plt.ylabel(\"Enterprises\")\n",
    "plt.legend(title=\"Nace Group\")\n",
    "plt.xticks(rotation=45)\n",
    "plt.tight_layout()\n",
    "plt.show()\n"
   ]
  },
  {
   "cell_type": "code",
   "execution_count": 79,
   "id": "feeb3b46",
   "metadata": {},
   "outputs": [
    {
     "data": {
      "image/png": "[encoded data removed]",
      "text/plain": [
       "<Figure size 1400x600 with 1 Axes>"
      ]
     },
     "metadata": {},
     "output_type": "display_data"
    }
   ],
   "source": [
    "# Plot 2\n",
    "plt.figure(figsize=(14, 6))\n",
    "sns.barplot(\n",
    "    data=years_last,\n",
    "    x='CreationYear',\n",
    "    y='EntityCount',\n",
    "    hue='Description',\n",
    "    order=last_three,\n",
    "    palette='tab10'\n",
    ")\n",
    "\n",
    "plt.title(\"Enterprise by Sector and Creation Period (1960 - Present)\")\n",
    "plt.xlabel(\"Creation Period\")\n",
    "plt.ylabel(\"Enterprises\")\n",
    "plt.xticks(rotation=45)\n",
    "plt.legend([],[], frameon=False)\n",
    "plt.tight_layout()\n",
    "plt.show()"
   ]
  },
  {
   "cell_type": "code",
   "execution_count": null,
   "id": "c9ff6074",
   "metadata": {},
   "outputs": [],
   "source": []
  }
 ],
 "metadata": {
  "kernelspec": {
   "display_name": "venv (3.10.4)",
   "language": "python",
   "name": "python3"
  },
  "language_info": {
   "codemirror_mode": {
    "name": "ipython",
    "version": 3
   },
   "file_extension": ".py",
   "mimetype": "text/x-python",
   "name": "python",
   "nbconvert_exporter": "python",
   "pygments_lexer": "ipython3",
   "version": "3.10.4"
  }
 },
 "nbformat": 4,
 "nbformat_minor": 5
}
